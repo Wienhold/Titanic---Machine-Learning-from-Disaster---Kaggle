{
 "cells": [
  {
   "cell_type": "markdown",
   "metadata": {},
   "source": [
    "# Automated ML\n",
    "\n",
    "TODO: Import Dependencies. In the cell below, import all the dependencies that you will need to complete the project."
   ]
  },
  {
   "cell_type": "code",
   "execution_count": 6,
   "metadata": {
    "gather": {
     "logged": 1598423888013
    },
    "jupyter": {
     "outputs_hidden": false,
     "source_hidden": false
    },
    "nteract": {
     "transient": {
      "deleting": false
     }
    }
   },
   "outputs": [
    {
     "name": "stdout",
     "output_type": "stream",
     "text": [
      "SDK version: 1.41.0\n"
     ]
    }
   ],
   "source": [
    "import logging\n",
    "import os\n",
    "import csv\n",
    "\n",
    "from matplotlib import pyplot as plt\n",
    "import numpy as np\n",
    "import pandas as pd\n",
    "from sklearn import datasets\n",
    "import pkg_resources\n",
    "\n",
    "import helper\n",
    "import azureml.core\n",
    "from azureml.data.datapath import DataPath\n",
    "from azureml.core.experiment import Experiment\n",
    "from azureml.core.workspace import Workspace\n",
    "from azureml.train.automl import AutoMLConfig\n",
    "from azureml.core.dataset import Dataset\n",
    "from azureml.core.run import Run\n",
    "from azureml.core.model import Model\n",
    "\n",
    "\n",
    "from azureml.pipeline.steps import AutoMLStep\n",
    "\n",
    "# Check core SDK version number\n",
    "print(\"SDK version:\", azureml.core.VERSION)"
   ]
  },
  {
   "cell_type": "markdown",
   "metadata": {},
   "source": [
    "## Dataset\n",
    "\n",
    "### Overview\n",
    "The Titanic dataset used in this project was downloaded from [Kaggle](https://www.kaggle.com/competitions/titanic/overview). We are provided a train and a test dataset with 891 and 418 records, respectively, with 12 columns.\n",
    "From the given features for each record we want to make a prediction if this person did survive the Titanic disaster or not. Therefore relevant features should be identified to help us with this task.\n",
    "\n",
    "TODO: Get data. In the cell below, write code to access the data you will be using in this project. Remember that the dataset needs to be external."
   ]
  },
  {
   "cell_type": "code",
   "execution_count": 7,
   "metadata": {},
   "outputs": [
    {
     "name": "stdout",
     "output_type": "stream",
     "text": [
      "quick-starts-ws-197355\n",
      "aml-quickstarts-197355\n",
      "southcentralus\n",
      "d7f39349-a66b-446e-aba6-0053c2cf1c11\n"
     ]
    }
   ],
   "source": [
    "# Load workspace from config file present at .\\config.json.\n",
    "ws = Workspace.from_config()\n",
    "print(ws.name, ws.resource_group, ws.location, ws.subscription_id, sep = '\\n')"
   ]
  },
  {
   "cell_type": "code",
   "execution_count": 8,
   "metadata": {
    "gather": {
     "logged": 1598423890461
    },
    "jupyter": {
     "outputs_hidden": false,
     "source_hidden": false
    },
    "nteract": {
     "transient": {
      "deleting": false
     }
    }
   },
   "outputs": [
    {
     "data": {
      "text/html": [
       "<table style=\"width:100%\"><tr><th>Name</th><th>Workspace</th><th>Report Page</th><th>Docs Page</th></tr><tr><td>Titanic</td><td>quick-starts-ws-197355</td><td><a href=\"https://ml.azure.com/experiments/id/60b29f61-f246-4861-ace4-6789d91d7f9c?wsid=/subscriptions/d7f39349-a66b-446e-aba6-0053c2cf1c11/resourcegroups/aml-quickstarts-197355/workspaces/quick-starts-ws-197355&amp;tid=660b3398-b80e-49d2-bc5b-ac1dc93b5254\" target=\"_blank\" rel=\"noopener\">Link to Azure Machine Learning studio</a></td><td><a href=\"https://docs.microsoft.com/en-us/python/api/azureml-core/azureml.core.experiment.Experiment?view=azure-ml-py\" target=\"_blank\" rel=\"noopener\">Link to Documentation</a></td></tr></table>"
      ],
      "text/plain": [
       "Experiment(Name: Titanic,\n",
       "Workspace: quick-starts-ws-197355)"
      ]
     },
     "execution_count": 8,
     "metadata": {},
     "output_type": "execute_result"
    }
   ],
   "source": [
    "# Choose a name for experiment\n",
    "experiment_name = 'Titanic'\n",
    "project_folder = './titanic-project'\n",
    "\n",
    "experiment=Experiment(ws, experiment_name)\n",
    "experiment"
   ]
  },
  {
   "cell_type": "code",
   "execution_count": 9,
   "metadata": {
    "gather": {
     "logged": 1654164831155
    }
   },
   "outputs": [
    {
     "name": "stdout",
     "output_type": "stream",
     "text": [
      "Uploading an estimated of 8 files\n",
      "Target already exists. Skipping upload for data/.amlignore\n",
      "Target already exists. Skipping upload for data/.amlignore.amltmp\n",
      "Target already exists. Skipping upload for data/gender_submission.csv\n",
      "Target already exists. Skipping upload for data/test.csv\n",
      "Target already exists. Skipping upload for data/test_modified.csv\n",
      "Target already exists. Skipping upload for data/Titanic.mpx\n",
      "Target already exists. Skipping upload for data/train.csv\n",
      "Uploading data/train_modified.csv\n",
      "Uploaded data/train_modified.csv, 1 files out of an estimated total of 1\n",
      "Uploaded 1 files\n"
     ]
    },
    {
     "data": {
      "text/html": [
       "<div>\n",
       "<style scoped>\n",
       "    .dataframe tbody tr th:only-of-type {\n",
       "        vertical-align: middle;\n",
       "    }\n",
       "\n",
       "    .dataframe tbody tr th {\n",
       "        vertical-align: top;\n",
       "    }\n",
       "\n",
       "    .dataframe thead th {\n",
       "        text-align: right;\n",
       "    }\n",
       "</style>\n",
       "<table border=\"1\" class=\"dataframe\">\n",
       "  <thead>\n",
       "    <tr style=\"text-align: right;\">\n",
       "      <th></th>\n",
       "      <th>Survived</th>\n",
       "      <th>Pclass</th>\n",
       "      <th>SibSp</th>\n",
       "      <th>Parch</th>\n",
       "      <th>Fare</th>\n",
       "      <th>Age</th>\n",
       "    </tr>\n",
       "  </thead>\n",
       "  <tbody>\n",
       "    <tr>\n",
       "      <th>count</th>\n",
       "      <td>891.000000</td>\n",
       "      <td>891.000000</td>\n",
       "      <td>891.000000</td>\n",
       "      <td>891.000000</td>\n",
       "      <td>891.000000</td>\n",
       "      <td>891.000000</td>\n",
       "    </tr>\n",
       "    <tr>\n",
       "      <th>mean</th>\n",
       "      <td>0.383838</td>\n",
       "      <td>2.308642</td>\n",
       "      <td>0.523008</td>\n",
       "      <td>0.381594</td>\n",
       "      <td>32.204208</td>\n",
       "      <td>29.520623</td>\n",
       "    </tr>\n",
       "    <tr>\n",
       "      <th>std</th>\n",
       "      <td>0.486592</td>\n",
       "      <td>0.836071</td>\n",
       "      <td>1.102743</td>\n",
       "      <td>0.806057</td>\n",
       "      <td>49.693429</td>\n",
       "      <td>13.399106</td>\n",
       "    </tr>\n",
       "    <tr>\n",
       "      <th>min</th>\n",
       "      <td>0.000000</td>\n",
       "      <td>1.000000</td>\n",
       "      <td>0.000000</td>\n",
       "      <td>0.000000</td>\n",
       "      <td>0.000000</td>\n",
       "      <td>0.420000</td>\n",
       "    </tr>\n",
       "    <tr>\n",
       "      <th>25%</th>\n",
       "      <td>0.000000</td>\n",
       "      <td>2.000000</td>\n",
       "      <td>0.000000</td>\n",
       "      <td>0.000000</td>\n",
       "      <td>7.910400</td>\n",
       "      <td>21.500000</td>\n",
       "    </tr>\n",
       "    <tr>\n",
       "      <th>50%</th>\n",
       "      <td>0.000000</td>\n",
       "      <td>3.000000</td>\n",
       "      <td>0.000000</td>\n",
       "      <td>0.000000</td>\n",
       "      <td>14.454200</td>\n",
       "      <td>27.784794</td>\n",
       "    </tr>\n",
       "    <tr>\n",
       "      <th>75%</th>\n",
       "      <td>1.000000</td>\n",
       "      <td>3.000000</td>\n",
       "      <td>1.000000</td>\n",
       "      <td>0.000000</td>\n",
       "      <td>31.000000</td>\n",
       "      <td>37.000000</td>\n",
       "    </tr>\n",
       "    <tr>\n",
       "      <th>max</th>\n",
       "      <td>1.000000</td>\n",
       "      <td>3.000000</td>\n",
       "      <td>8.000000</td>\n",
       "      <td>6.000000</td>\n",
       "      <td>512.329200</td>\n",
       "      <td>80.000000</td>\n",
       "    </tr>\n",
       "  </tbody>\n",
       "</table>\n",
       "</div>"
      ],
      "text/plain": [
       "         Survived      Pclass       SibSp       Parch        Fare         Age\n",
       "count  891.000000  891.000000  891.000000  891.000000  891.000000  891.000000\n",
       "mean     0.383838    2.308642    0.523008    0.381594   32.204208   29.520623\n",
       "std      0.486592    0.836071    1.102743    0.806057   49.693429   13.399106\n",
       "min      0.000000    1.000000    0.000000    0.000000    0.000000    0.420000\n",
       "25%      0.000000    2.000000    0.000000    0.000000    7.910400   21.500000\n",
       "50%      0.000000    3.000000    0.000000    0.000000   14.454200   27.784794\n",
       "75%      1.000000    3.000000    1.000000    0.000000   31.000000   37.000000\n",
       "max      1.000000    3.000000    8.000000    6.000000  512.329200   80.000000"
      ]
     },
     "execution_count": 9,
     "metadata": {},
     "output_type": "execute_result"
    }
   ],
   "source": [
    "# Try to load the dataset from the Workspace. Otherwise, create it from the file\n",
    "found = False\n",
    "key = \"Titanic_dataset\"\n",
    "\n",
    "if key in ws.datasets.keys(): \n",
    "        found = True\n",
    "        dataset = ws.datasets[key] \n",
    "\n",
    "if not found:\n",
    "        # Create AML Dataset and register it into Workspace\n",
    "        datastore = ws.get_default_datastore()\n",
    "        datastore.upload(src_dir='data', target_path='data')\n",
    "        train_data = datastore.path('data/train_modified.csv')\n",
    "        \n",
    "        dataset = Dataset.Tabular.from_delimited_files(train_data, separator=';')        \n",
    "        dataset = dataset.register(workspace=ws,\n",
    "                                   name=key,\n",
    "                                   description=\"This is the complete dataset for the capstone project.\")\n",
    "        \n",
    "        dataset_filtered = dataset.keep_columns([\"Survived\",\"Pclass\",\"Sex\",\"SibSp\",\"Parch\",\"Fare\",\"Embarked\",\"Age\"])\n",
    "        dataset_filtered = dataset_filtered.register(workspace=ws,\n",
    "                                   name=key+\"_filtered\",\n",
    "                                   description=\"This is the filtered dataset for the capstone project \" \\\n",
    "                                   \"with only those features relevant for training.\")\n",
    "\n",
    "df = dataset_filtered.to_pandas_dataframe()\n",
    "df.describe()"
   ]
  },
  {
   "cell_type": "markdown",
   "metadata": {},
   "source": [
    "## AutoML Configuration\n",
    "\n",
    "TODO: Explain why you chose the automl settings and cofiguration you used below.\n",
    "\n",
    "First, we create a compute cluster if it is not yet available. As we want to use deep learning, we choose a GPU for training."
   ]
  },
  {
   "cell_type": "code",
   "execution_count": 10,
   "metadata": {},
   "outputs": [
    {
     "name": "stdout",
     "output_type": "stream",
     "text": [
      "Found existing cluster, use it.\n",
      "Succeeded.....................................................................................................................\n",
      "AmlCompute wait for completion finished\n",
      "\n",
      "Wait timeout has been reached\n",
      "Current provisioning state of AmlCompute is \"Succeeded\" and current node count is \"0\"\n"
     ]
    }
   ],
   "source": [
    "from azureml.core.compute import AmlCompute\n",
    "from azureml.core.compute import ComputeTarget\n",
    "from azureml.core.compute_target import ComputeTargetException\n",
    "\n",
    "num_nodes = 5\n",
    "\n",
    "amlcompute_cluster_name = \"ComputeClusterCapstone\"\n",
    "\n",
    "# Verify that cluster does not exist already\n",
    "try:\n",
    "    compute_target = ComputeTarget(workspace=ws, name=amlcompute_cluster_name)\n",
    "    print('Found existing cluster, use it.')\n",
    "except ComputeTargetException:\n",
    "    compute_config = AmlCompute.provisioning_configuration(vm_size='STANDARD_NC6',\n",
    "                                                           vm_priority = 'lowpriority',\n",
    "                                                           max_nodes=num_nodes)\n",
    "    compute_target = ComputeTarget.create(ws, amlcompute_cluster_name, compute_config)\n",
    "\n",
    "compute_target.wait_for_completion(show_output=True, min_node_count = 1, timeout_in_minutes = 10)"
   ]
  },
  {
   "cell_type": "code",
   "execution_count": 11,
   "metadata": {
    "gather": {
     "logged": 1598429217746
    },
    "jupyter": {
     "outputs_hidden": false,
     "source_hidden": false
    },
    "nteract": {
     "transient": {
      "deleting": false
     }
    }
   },
   "outputs": [],
   "source": [
    "automl_settings = {\n",
    "    \"max_concurrent_iterations\": 5,\n",
    "    \"max_cores_per_iteration\": -1,\n",
    "    \"enable_dnn\": True,\n",
    "    \"enable_early_stopping\": True,\n",
    "    \"validation_size\": 0.2,\n",
    "    \"primary_metric\" : 'accuracy',\n",
    "    \"enable_voting_ensemble\": False,\n",
    "    \"enable_stack_ensemble\": False\n",
    "}\n",
    "\n",
    "automl_config = AutoMLConfig(compute_target=compute_target,\n",
    "                             task = \"classification\",\n",
    "                             training_data=dataset_filtered,\n",
    "                             label_column_name=\"Survived\",   \n",
    "                             path = project_folder,\n",
    "                             featurization= 'auto',\n",
    "                             debug_log = \"automl_errors.log\",\n",
    "                             **automl_settings\n",
    "                            )"
   ]
  },
  {
   "cell_type": "code",
   "execution_count": 12,
   "metadata": {},
   "outputs": [],
   "source": [
    "ds = ws.get_default_datastore()\n",
    "metrics_output_name = 'metrics_output'\n",
    "best_model_output_name = 'best_model_output'"
   ]
  },
  {
   "cell_type": "code",
   "execution_count": 13,
   "metadata": {
    "gather": {
     "logged": 1598431107951
    },
    "jupyter": {
     "outputs_hidden": false,
     "source_hidden": false
    },
    "nteract": {
     "transient": {
      "deleting": false
     }
    }
   },
   "outputs": [
    {
     "name": "stdout",
     "output_type": "stream",
     "text": [
      "Submitting remote run.\n",
      "No run_configuration provided, running on ComputeClusterCapstone with default configuration\n",
      "Running on remote compute: ComputeClusterCapstone\n"
     ]
    },
    {
     "data": {
      "text/html": [
       "<table style=\"width:100%\"><tr><th>Experiment</th><th>Id</th><th>Type</th><th>Status</th><th>Details Page</th><th>Docs Page</th></tr><tr><td>Titanic</td><td>AutoML_90d85e2e-c635-453e-8fe3-e32ec570cbe5</td><td>automl</td><td>NotStarted</td><td><a href=\"https://ml.azure.com/runs/AutoML_90d85e2e-c635-453e-8fe3-e32ec570cbe5?wsid=/subscriptions/d7f39349-a66b-446e-aba6-0053c2cf1c11/resourcegroups/aml-quickstarts-197355/workspaces/quick-starts-ws-197355&amp;tid=660b3398-b80e-49d2-bc5b-ac1dc93b5254\" target=\"_blank\" rel=\"noopener\">Link to Azure Machine Learning studio</a></td><td><a href=\"https://docs.microsoft.com/en-us/python/api/overview/azure/ml/intro?view=azure-ml-py\" target=\"_blank\" rel=\"noopener\">Link to Documentation</a></td></tr></table>"
      ],
      "text/plain": [
       "<IPython.core.display.HTML object>"
      ]
     },
     "metadata": {},
     "output_type": "display_data"
    },
    {
     "name": "stdout",
     "output_type": "stream",
     "text": [
      "\n",
      "Current status: FeaturesGeneration. Generating features for the dataset.\n",
      "Current status: DatasetFeaturizationCompleted. Completed fit featurizers and featurizing the dataset.\n",
      "Current status: ModelSelection. Beginning model selection.\n",
      "\n",
      "********************************************************************************************\n",
      "DATA GUARDRAILS: \n",
      "\n",
      "TYPE:         Class balancing detection\n",
      "STATUS:       PASSED\n",
      "DESCRIPTION:  Your inputs were analyzed, and all classes are balanced in your training data.\n",
      "              Learn more about imbalanced data: https://aka.ms/AutomatedMLImbalancedData\n",
      "\n",
      "********************************************************************************************\n",
      "\n",
      "TYPE:         Missing feature values imputation\n",
      "STATUS:       PASSED\n",
      "DESCRIPTION:  No feature missing values were detected in the training data.\n",
      "              Learn more about missing value imputation: https://aka.ms/AutomatedMLFeaturization\n",
      "\n",
      "********************************************************************************************\n",
      "\n",
      "TYPE:         High cardinality feature detection\n",
      "STATUS:       PASSED\n",
      "DESCRIPTION:  Your inputs were analyzed, and no high cardinality features were detected.\n",
      "              Learn more about high cardinality feature handling: https://aka.ms/AutomatedMLFeaturization\n",
      "\n",
      "********************************************************************************************\n",
      "\n",
      "********************************************************************************************\n",
      "ITER: The iteration being evaluated.\n",
      "PIPELINE: A summary description of the pipeline being evaluated.\n",
      "DURATION: Time taken for the current iteration.\n",
      "METRIC: The result of computing score on the fitted pipeline.\n",
      "BEST: The best observed score thus far.\n",
      "********************************************************************************************\n",
      "\n",
      " ITER   PIPELINE                                       DURATION            METRIC      BEST\n",
      "    0   MaxAbsScaler LightGBM                          0:00:21             0.8045    0.8045\n",
      "    1   MaxAbsScaler XGBoostClassifier                 0:00:14             0.7989    0.8045\n",
      "    2   MaxAbsScaler ExtremeRandomTrees                0:00:14             0.7318    0.8045\n",
      "    3   SparseNormalizer XGBoostClassifier             0:00:14             0.7821    0.8045\n",
      "    4   MaxAbsScaler LightGBM                          0:00:19             0.7989    0.8045\n",
      "    5   MaxAbsScaler LightGBM                          0:00:15             0.7933    0.8045\n",
      "    6   StandardScalerWrapper XGBoostClassifier        0:00:14             0.7933    0.8045\n",
      "    7   MaxAbsScaler LogisticRegression                0:00:15             0.8101    0.8101\n",
      "   12   MaxAbsScaler LogisticRegression                0:00:15             0.8045    0.8101\n",
      "    8   StandardScalerWrapper ExtremeRandomTrees       0:00:14             0.6704    0.8101\n",
      "   13   MaxAbsScaler SGD                               0:00:14             0.7709    0.8101\n",
      "    9   StandardScalerWrapper XGBoostClassifier        0:00:14             0.7933    0.8101\n",
      "   10   SparseNormalizer LightGBM                      0:00:21             0.7989    0.8101\n",
      "   14   StandardScalerWrapper XGBoostClassifier        0:00:17             0.7933    0.8101\n",
      "   16   StandardScalerWrapper LogisticRegression       0:00:15             0.8045    0.8101\n",
      "   11   StandardScalerWrapper XGBoostClassifier        0:00:14             0.7821    0.8101\n",
      "   15   SparseNormalizer RandomForest                  0:00:14             0.7933    0.8101\n",
      "   17   StandardScalerWrapper RandomForest             0:00:14             0.7542    0.8101\n",
      "   18   StandardScalerWrapper XGBoostClassifier        0:00:14             0.8045    0.8101\n",
      "   19   TruncatedSVDWrapper RandomForest               0:00:14             0.7765    0.8101\n",
      "   20   TruncatedSVDWrapper RandomForest               0:00:47             0.7765    0.8101\n",
      "   22   SparseNormalizer XGBoostClassifier             0:00:46             0.7989    0.8101\n",
      "   23   StandardScalerWrapper LogisticRegression       0:00:51             0.8045    0.8101\n",
      "   24   StandardScalerWrapper RandomForest             0:00:49             0.7430    0.8101\n",
      "   25   SparseNormalizer LogisticRegression            0:00:49             0.6201    0.8101\n",
      "   26   SparseNormalizer XGBoostClassifier             0:00:46             0.7989    0.8101\n",
      "   27   SparseNormalizer XGBoostClassifier             0:00:46             0.7933    0.8101\n",
      "   28   SparseNormalizer XGBoostClassifier             0:00:50             0.8212    0.8212\n",
      "ERROR: {\n",
      "    \"additional_properties\": {},\n",
      "    \"error\": {\n",
      "        \"additional_properties\": {\n",
      "            \"debugInfo\": null\n",
      "        },\n",
      "        \"code\": \"UserError\",\n",
      "        \"severity\": null,\n",
      "        \"message\": \"AzureMLCompute job failed.\\nUserProcessKilledBySystemSignal: Job failed since the user script received system termination signal usually due to out-of-memory, segfault or disk full, please check driver log for more info.\\n\\tReason: Job failed since the user script received system termination signal usually due to out-of-memory, segfault or disk full, please check driver log for more info.\\n\\tCause: aborted\\n\\tTaskIndex: \\n\\tNodeIp: 10.0.0.7\\n\\tNodeId: tvmps_d210e1329754a7321e930ed15ec3668ef64f241dbc63969470e5d7f2e62b6102_p\\n\\tReason: Job failed with non-zero exit Code\",\n",
      "        \"message_format\": \"{Message}\",\n",
      "        \"message_parameters\": {\n",
      "            \"Message\": \"AzureMLCompute job failed.\\nUserProcessKilledBySystemSignal: Job failed since the user script received system termination signal usually due to out-of-memory, segfault or disk full, please check driver log for more info.\\n\\tReason: Job failed since the user script received system termination signal usually due to out-of-memory, segfault or disk full, please check driver log for more info.\\n\\tCause: aborted\\n\\tTaskIndex: \\n\\tNodeIp: 10.0.0.7\\n\\tNodeId: tvmps_d210e1329754a7321e930ed15ec3668ef64f241dbc63969470e5d7f2e62b6102_p\\n\\tReason: Job failed with non-zero exit Code\"\n",
      "        },\n",
      "        \"reference_code\": null,\n",
      "        \"details_uri\": null,\n",
      "        \"target\": null,\n",
      "        \"details\": [],\n",
      "        \"inner_error\": {\n",
      "            \"additional_properties\": {},\n",
      "            \"code\": \"UserTrainingScriptFailed\",\n",
      "            \"inner_error\": null\n",
      "        },\n",
      "        \"additional_info\": null\n",
      "    },\n",
      "    \"correlation\": {\n",
      "        \"operation\": \"3d1b5ab2474359445c9d15659a04ef52\",\n",
      "        \"request\": \"08187a6ecaf9d04b\"\n",
      "    },\n",
      "    \"environment\": \"southcentralus\",\n",
      "    \"location\": \"southcentralus\",\n",
      "    \"time\": {},\n",
      "    \"component_name\": \"globaljobdispatcher\"\n",
      "}\n",
      "   29   SparseNormalizer XGBoostClassifier             0:00:46             0.8101    0.8212\n",
      "   30   SparseNormalizer LogisticRegression            0:00:48             0.3855    0.8212\n",
      "   31   StandardScalerWrapper XGBoostClassifier        0:00:46             0.7765    0.8212\n",
      "   21   StandardScalerWrapper XGBoostClassifier        0:03:33             0.7933    0.8212\n",
      "   32   StandardScalerWrapper XGBoostClassifier        0:00:51             0.7765    0.8212\n",
      "ERROR: {\n",
      "    \"additional_properties\": {},\n",
      "    \"error\": {\n",
      "        \"additional_properties\": {\n",
      "            \"debugInfo\": null\n",
      "        },\n",
      "        \"code\": \"UserError\",\n",
      "        \"severity\": null,\n",
      "        \"message\": \"AzureMLCompute job failed.\\nUserProcessKilledBySystemSignal: Job failed since the user script received system termination signal usually due to out-of-memory, segfault or disk full, please check driver log for more info.\\n\\tReason: Job failed since the user script received system termination signal usually due to out-of-memory, segfault or disk full, please check driver log for more info.\\n\\tCause: aborted\\n\\tTaskIndex: \\n\\tNodeIp: 10.0.0.7\\n\\tNodeId: tvmps_d210e1329754a7321e930ed15ec3668ef64f241dbc63969470e5d7f2e62b6102_p\\n\\tReason: Job failed with non-zero exit Code\",\n",
      "        \"message_format\": \"{Message}\",\n",
      "        \"message_parameters\": {\n",
      "            \"Message\": \"AzureMLCompute job failed.\\nUserProcessKilledBySystemSignal: Job failed since the user script received system termination signal usually due to out-of-memory, segfault or disk full, please check driver log for more info.\\n\\tReason: Job failed since the user script received system termination signal usually due to out-of-memory, segfault or disk full, please check driver log for more info.\\n\\tCause: aborted\\n\\tTaskIndex: \\n\\tNodeIp: 10.0.0.7\\n\\tNodeId: tvmps_d210e1329754a7321e930ed15ec3668ef64f241dbc63969470e5d7f2e62b6102_p\\n\\tReason: Job failed with non-zero exit Code\"\n",
      "        },\n",
      "        \"reference_code\": null,\n",
      "        \"details_uri\": null,\n",
      "        \"target\": null,\n",
      "        \"details\": [],\n",
      "        \"inner_error\": {\n",
      "            \"additional_properties\": {},\n",
      "            \"code\": \"UserTrainingScriptFailed\",\n",
      "            \"inner_error\": null\n",
      "        },\n",
      "        \"additional_info\": null\n",
      "    },\n",
      "    \"correlation\": {\n",
      "        \"operation\": \"3e25c55f817662029ddbe6d19a714412\",\n",
      "        \"request\": \"0a72c75926a847b7\"\n",
      "    },\n",
      "    \"environment\": \"southcentralus\",\n",
      "    \"location\": \"southcentralus\",\n",
      "    \"time\": {},\n",
      "    \"component_name\": \"globaljobdispatcher\"\n",
      "}\n",
      "   33   SparseNormalizer XGBoostClassifier             0:00:46             0.8045    0.8212\n",
      "   34   SparseNormalizer XGBoostClassifier             0:00:45             0.7877    0.8212\n",
      "   35   SparseNormalizer XGBoostClassifier             0:00:47             0.8045    0.8212\n",
      "   36   StandardScalerWrapper ExtremeRandomTrees       0:00:46             0.7765    0.8212\n",
      "   37   SparseNormalizer XGBoostClassifier             0:00:47             0.8101    0.8212\n",
      "   39   MaxAbsScaler SGD                               0:00:45             0.7486    0.8212\n",
      "   40   SparseNormalizer XGBoostClassifier             0:00:46             0.8268    0.8268\n",
      "   41   StandardScalerWrapper LightGBM                 0:00:55             0.8156    0.8268\n",
      "   42   MaxAbsScaler LogisticRegression                0:00:46             0.8101    0.8268\n",
      "   44   StandardScalerWrapper XGBoostClassifier        0:00:46             0.7765    0.8268\n",
      "   38   SparseNormalizer ExtremeRandomTrees            0:00:46             0.7207    0.8268\n",
      "   43   MaxAbsScaler ExtremeRandomTrees                0:00:51             0.7318    0.8268\n",
      "   45   StandardScalerWrapper XGBoostClassifier        0:00:46             0.8045    0.8268\n",
      "   46   StandardScalerWrapper ExtremeRandomTrees       0:00:48             0.7765    0.8268\n",
      "   47   SparseNormalizer ExtremeRandomTrees            0:00:49             0.7095    0.8268\n",
      "   48   SparseNormalizer XGBoostClassifier             0:00:47             0.8101    0.8268\n",
      "   49   SparseNormalizer XGBoostClassifier             0:00:46             0.7765    0.8268\n",
      "   50   SparseNormalizer XGBoostClassifier             0:00:51             0.7933    0.8268\n",
      "   51   StandardScalerWrapper XGBoostClassifier        0:00:49             0.7598    0.8268\n",
      "   52   StandardScalerWrapper XGBoostClassifier        0:00:46             0.7765    0.8268\n",
      "   53   SparseNormalizer XGBoostClassifier             0:00:47             0.7709    0.8268\n",
      "   54   StandardScalerWrapper XGBoostClassifier        0:00:46             0.7989    0.8268\n",
      "   55   StandardScalerWrapper XGBoostClassifier        0:00:33             0.8045    0.8268\n",
      "   56   MaxAbsScaler ExtremeRandomTrees                0:00:30             0.7765    0.8268\n",
      "   57   StandardScalerWrapper XGBoostClassifier        0:00:01             0.7654    0.8268\n"
     ]
    }
   ],
   "source": [
    "remote_run = experiment.submit(automl_config, show_output=True)"
   ]
  },
  {
   "cell_type": "markdown",
   "metadata": {},
   "source": [
    "## Run Details\n",
    "\n",
    "OPTIONAL: Write about the different models trained and their performance. Why do you think some models did better than others?"
   ]
  },
  {
   "cell_type": "code",
   "execution_count": 14,
   "metadata": {
    "gather": {
     "logged": 1598431121770
    },
    "jupyter": {
     "outputs_hidden": false,
     "source_hidden": false
    },
    "nteract": {
     "transient": {
      "deleting": false
     }
    }
   },
   "outputs": [
    {
     "data": {
      "application/vnd.jupyter.widget-view+json": {
       "model_id": "aa3b1b34ea8f4dbf8e8364367e29c492",
       "version_major": 2,
       "version_minor": 0
      },
      "text/plain": [
       "_AutoMLWidget(widget_settings={'childWidgetDisplay': 'popup', 'send_telemetry': False, 'log_level': 'INFO', 's…"
      ]
     },
     "metadata": {},
     "output_type": "display_data"
    },
    {
     "data": {
      "application/aml.mini.widget.v1": "{\"status\": \"Completed\", \"workbench_run_details_uri\": \"https://ml.azure.com/runs/AutoML_90d85e2e-c635-453e-8fe3-e32ec570cbe5?wsid=/subscriptions/d7f39349-a66b-446e-aba6-0053c2cf1c11/resourcegroups/aml-quickstarts-197355/workspaces/quick-starts-ws-197355&tid=660b3398-b80e-49d2-bc5b-ac1dc93b5254\", \"run_id\": \"AutoML_90d85e2e-c635-453e-8fe3-e32ec570cbe5\", \"run_properties\": {\"run_id\": \"AutoML_90d85e2e-c635-453e-8fe3-e32ec570cbe5\", \"created_utc\": \"2022-06-02T12:28:02.198929Z\", \"properties\": {\"num_iterations\": \"1000\", \"training_type\": \"TrainFull\", \"acquisition_function\": \"EI\", \"primary_metric\": \"accuracy\", \"train_split\": \"0.2\", \"acquisition_parameter\": \"0\", \"num_cross_validation\": null, \"target\": \"ComputeClusterCapstone\", \"AMLSettingsJsonString\": \"{\\\"path\\\":null,\\\"name\\\":\\\"Titanic\\\",\\\"subscription_id\\\":\\\"d7f39349-a66b-446e-aba6-0053c2cf1c11\\\",\\\"resource_group\\\":\\\"aml-quickstarts-197355\\\",\\\"workspace_name\\\":\\\"quick-starts-ws-197355\\\",\\\"region\\\":\\\"southcentralus\\\",\\\"compute_target\\\":\\\"ComputeClusterCapstone\\\",\\\"spark_service\\\":null,\\\"azure_service\\\":\\\"remote\\\",\\\"many_models\\\":false,\\\"pipeline_fetch_max_batch_size\\\":1,\\\"enable_batch_run\\\":true,\\\"enable_run_restructure\\\":false,\\\"start_auxiliary_runs_before_parent_complete\\\":false,\\\"enable_code_generation\\\":false,\\\"iterations\\\":1000,\\\"primary_metric\\\":\\\"accuracy\\\",\\\"task_type\\\":\\\"classification\\\",\\\"positive_label\\\":null,\\\"data_script\\\":null,\\\"test_size\\\":0.0,\\\"test_include_predictions_only\\\":false,\\\"validation_size\\\":0.2,\\\"n_cross_validations\\\":null,\\\"y_min\\\":null,\\\"y_max\\\":null,\\\"num_classes\\\":null,\\\"featurization\\\":\\\"auto\\\",\\\"_ignore_package_version_incompatibilities\\\":false,\\\"is_timeseries\\\":false,\\\"max_cores_per_iteration\\\":-1,\\\"max_concurrent_iterations\\\":5,\\\"iteration_timeout_minutes\\\":null,\\\"mem_in_mb\\\":null,\\\"enforce_time_on_windows\\\":false,\\\"experiment_timeout_minutes\\\":8640,\\\"experiment_exit_score\\\":null,\\\"partition_column_names\\\":null,\\\"whitelist_models\\\":null,\\\"blacklist_algos\\\":[\\\"TensorFlowLinearClassifier\\\",\\\"TensorFlowDNN\\\"],\\\"supported_models\\\":[\\\"SVM\\\",\\\"LightGBM\\\",\\\"TensorFlowDNN\\\",\\\"TabnetClassifier\\\",\\\"GradientBoosting\\\",\\\"TensorFlowLinearClassifier\\\",\\\"KNN\\\",\\\"AveragedPerceptronClassifier\\\",\\\"SGD\\\",\\\"BernoulliNaiveBayes\\\",\\\"ExtremeRandomTrees\\\",\\\"DecisionTree\\\",\\\"XGBoostClassifier\\\",\\\"LogisticRegression\\\",\\\"MultinomialNaiveBayes\\\",\\\"LinearSVM\\\",\\\"RandomForest\\\"],\\\"private_models\\\":[],\\\"auto_blacklist\\\":true,\\\"blacklist_samples_reached\\\":false,\\\"exclude_nan_labels\\\":true,\\\"verbosity\\\":20,\\\"_debug_log\\\":\\\"azureml_automl.log\\\",\\\"show_warnings\\\":false,\\\"model_explainability\\\":true,\\\"service_url\\\":null,\\\"sdk_url\\\":null,\\\"sdk_packages\\\":null,\\\"enable_onnx_compatible_models\\\":false,\\\"enable_split_onnx_featurizer_estimator_models\\\":false,\\\"vm_type\\\":\\\"STANDARD_NC6\\\",\\\"telemetry_verbosity\\\":20,\\\"send_telemetry\\\":true,\\\"enable_dnn\\\":true,\\\"scenario\\\":\\\"SDK-1.13.0\\\",\\\"environment_label\\\":null,\\\"save_mlflow\\\":false,\\\"enable_categorical_indicators\\\":false,\\\"force_text_dnn\\\":false,\\\"enable_feature_sweeping\\\":true,\\\"enable_early_stopping\\\":true,\\\"early_stopping_n_iters\\\":10,\\\"arguments\\\":null,\\\"dataset_id\\\":\\\"30cc16bf-ea8c-4820-ae38-862aa18b2e9b\\\",\\\"hyperdrive_config\\\":null,\\\"validation_dataset_id\\\":null,\\\"run_source\\\":null,\\\"metrics\\\":null,\\\"enable_metric_confidence\\\":false,\\\"enable_ensembling\\\":false,\\\"enable_stack_ensembling\\\":false,\\\"ensemble_iterations\\\":15,\\\"enable_tf\\\":false,\\\"enable_subsampling\\\":null,\\\"subsample_seed\\\":null,\\\"enable_nimbusml\\\":false,\\\"enable_streaming\\\":false,\\\"force_streaming\\\":false,\\\"track_child_runs\\\":true,\\\"allowed_private_models\\\":[],\\\"label_column_name\\\":\\\"Survived\\\",\\\"weight_column_name\\\":null,\\\"cv_split_column_names\\\":null,\\\"enable_local_managed\\\":false,\\\"_local_managed_run_id\\\":null,\\\"cost_mode\\\":1,\\\"lag_length\\\":0,\\\"metric_operation\\\":\\\"maximize\\\",\\\"preprocess\\\":true}\", \"DataPrepJsonString\": \"{\\\\\\\"training_data\\\\\\\": {\\\\\\\"datasetId\\\\\\\": \\\\\\\"30cc16bf-ea8c-4820-ae38-862aa18b2e9b\\\\\\\"}, \\\\\\\"datasets\\\\\\\": 0}\", \"EnableSubsampling\": null, \"runTemplate\": \"AutoML\", \"azureml.runsource\": \"automl\", \"display_task_type\": \"classification\", \"dependencies_versions\": \"{\\\"azureml-dataprep-native\\\": \\\"38.0.0\\\", \\\"azureml-dataprep\\\": \\\"3.1.1\\\", \\\"azureml-dataprep-rslex\\\": \\\"2.5.2\\\", \\\"azureml-mlflow\\\": \\\"1.41.0\\\", \\\"azureml-training-tabular\\\": \\\"1.41.0\\\", \\\"azureml-train-core\\\": \\\"1.41.0\\\", \\\"azureml-contrib-dataset\\\": \\\"1.41.0\\\", \\\"azureml-pipeline-steps\\\": \\\"1.41.0\\\", \\\"azureml-pipeline-core\\\": \\\"1.41.0\\\", \\\"azureml-pipeline\\\": \\\"1.41.0\\\", \\\"azureml-cli-common\\\": \\\"1.41.0\\\", \\\"azureml-explain-model\\\": \\\"1.41.0\\\", \\\"azureml-automl-dnn-nlp\\\": \\\"1.41.0\\\", \\\"azureml-opendatasets\\\": \\\"1.41.0\\\", \\\"azureml-train-restclients-hyperdrive\\\": \\\"1.41.0\\\", \\\"azureml-dataset-runtime\\\": \\\"1.41.0\\\", \\\"azureml-tensorboard\\\": \\\"1.41.0\\\", \\\"azureml-contrib-automl-pipeline-steps\\\": \\\"1.41.0\\\", \\\"azureml-train-automl-client\\\": \\\"1.41.0\\\", \\\"azureml-automl-core\\\": \\\"1.41.0\\\", \\\"azureml-sdk\\\": \\\"1.41.0\\\", \\\"azureml-contrib-services\\\": \\\"1.41.0\\\", \\\"azureml-contrib-server\\\": \\\"1.41.0\\\", \\\"azureml-accel-models\\\": \\\"1.41.0\\\", \\\"azureml-core\\\": \\\"1.41.0\\\", \\\"azureml-train-automl-runtime\\\": \\\"1.41.0\\\", \\\"azureml-contrib-notebook\\\": \\\"1.41.0\\\", \\\"azureml-train\\\": \\\"1.41.0\\\", \\\"azureml-interpret\\\": \\\"1.41.0\\\", \\\"azureml-defaults\\\": \\\"1.41.0\\\", \\\"azureml-automl-runtime\\\": \\\"1.41.0\\\", \\\"azureml-datadrift\\\": \\\"1.41.0\\\", \\\"azureml-contrib-reinforcementlearning\\\": \\\"1.41.0\\\", \\\"azureml-widgets\\\": \\\"1.41.0\\\", \\\"azureml-train-automl\\\": \\\"1.41.0\\\", \\\"azureml-contrib-fairness\\\": \\\"1.41.0\\\", \\\"azureml-telemetry\\\": \\\"1.41.0\\\", \\\"azureml-contrib-pipeline-steps\\\": \\\"1.41.0\\\", \\\"azureml-responsibleai\\\": \\\"1.41.0\\\", \\\"azureml-inference-server-http\\\": \\\"0.4.13\\\", \\\"azureml-samples\\\": \\\"0+unknown\\\"}\", \"_aml_system_scenario_identification\": \"Remote.Parent\", \"ClientType\": \"SDK\", \"environment_cpu_name\": \"AzureML-AutoML-DNN\", \"environment_cpu_label\": \"prod\", \"environment_gpu_name\": \"AzureML-AutoML-DNN-GPU\", \"environment_gpu_label\": \"prod\", \"root_attribution\": \"automl\", \"attribution\": \"AutoML\", \"Orchestrator\": \"AutoML\", \"CancelUri\": \"https://southcentralus.api.azureml.ms/jasmine/v1.0/subscriptions/d7f39349-a66b-446e-aba6-0053c2cf1c11/resourceGroups/aml-quickstarts-197355/providers/Microsoft.MachineLearningServices/workspaces/quick-starts-ws-197355/experimentids/60b29f61-f246-4861-ace4-6789d91d7f9c/cancel/AutoML_90d85e2e-c635-453e-8fe3-e32ec570cbe5\", \"ClientSdkVersion\": \"1.41.1\", \"snapshotId\": \"00000000-0000-0000-0000-000000000000\", \"SetupRunId\": \"AutoML_90d85e2e-c635-453e-8fe3-e32ec570cbe5_setup\", \"SetupRunContainerId\": \"dcid.AutoML_90d85e2e-c635-453e-8fe3-e32ec570cbe5_setup\", \"FeaturizationRunJsonPath\": \"featurizer_container.json\", \"FeaturizationRunId\": \"AutoML_90d85e2e-c635-453e-8fe3-e32ec570cbe5_featurize\", \"ProblemInfoJsonString\": \"{\\\"dataset_num_categorical\\\": 0, \\\"is_sparse\\\": true, \\\"subsampling\\\": false, \\\"has_extra_col\\\": true, \\\"dataset_classes\\\": 2, \\\"dataset_features\\\": 23, \\\"dataset_samples\\\": 712, \\\"single_frequency_class_detected\\\": false}\", \"ModelExplainRunId\": \"AutoML_90d85e2e-c635-453e-8fe3-e32ec570cbe5_ModelExplain\"}, \"tags\": {\"model_explain_run\": \"best_run\", \"_aml_system_automl_run_workspace_id\": \"4b3ba076-dc66-4650-9164-9d583d060f24\", \"_aml_system_azureml.automlComponent\": \"AutoML\", \"is_gpu\": \"True\", \"pipeline_id\": \"\", \"score\": \"\", \"predicted_cost\": \"\", \"fit_time\": \"\", \"training_percent\": \"\", \"iteration\": \"\", \"run_preprocessor\": \"\", \"run_algorithm\": \"\", \"dynamic_allowlisting_iterations\": \"<25>;<30>;<35>;<40>;<45>;<50>;<55>;\", \"_aml_system_azureml.automl_early_exit_message\": \"No scores improved over last 10 iterations, so experiment stopped early. This early stopping behavior can be disabled by setting enable_early_stopping = False in AutoMLConfig for notebook/python SDK runs.\", \"automl_best_child_run_id\": \"AutoML_90d85e2e-c635-453e-8fe3-e32ec570cbe5_40\", \"model_explain_best_run_child_id\": \"AutoML_90d85e2e-c635-453e-8fe3-e32ec570cbe5_40\"}, \"end_time_utc\": \"2022-06-02T12:50:34.394894Z\", \"status\": \"Completed\", \"log_files\": {}, \"log_groups\": [], \"run_duration\": \"0:22:32\", \"run_number\": \"1654172882\", \"run_queued_details\": {\"status\": \"Completed\", \"details\": null}}, \"child_runs\": [{\"run_id\": \"AutoML_90d85e2e-c635-453e-8fe3-e32ec570cbe5_setup\", \"run_number\": 1654172894, \"metric\": null, \"status\": \"Completed\", \"run_type\": \"azureml.scriptrun\", \"training_percent\": null, \"start_time\": \"2022-06-02T12:30:36.295008Z\", \"end_time\": \"2022-06-02T12:34:08.368658Z\", \"created_time\": \"2022-06-02T12:28:14.51126Z\", \"created_time_dt\": \"2022-06-02T12:28:14.51126Z\", \"duration\": \"0:05:53\", \"iteration\": null, \"goal\": null, \"run_name\": \"Completed\", \"run_properties\": null}, {\"run_id\": \"AutoML_90d85e2e-c635-453e-8fe3-e32ec570cbe5_featurize\", \"run_number\": 1654173248, \"metric\": null, \"status\": \"Completed\", \"run_type\": \"automl.featurization\", \"training_percent\": null, \"start_time\": \"2022-06-02T12:34:09.197862Z\", \"end_time\": \"2022-06-02T12:35:08.258783Z\", \"created_time\": \"2022-06-02T12:34:08.754377Z\", \"created_time_dt\": \"2022-06-02T12:34:08.754377Z\", \"duration\": \"0:00:59\", \"iteration\": null, \"goal\": null, \"run_name\": \"Completed\", \"run_properties\": null}, {\"run_id\": \"AutoML_90d85e2e-c635-453e-8fe3-e32ec570cbe5_0\", \"run_number\": 1654173309, \"metric\": null, \"status\": \"Completed\", \"run_type\": null, \"training_percent\": \"100\", \"start_time\": \"2022-06-02T12:35:37.830855Z\", \"end_time\": \"2022-06-02T12:35:59.121733Z\", \"created_time\": \"2022-06-02T12:35:09.488245Z\", \"created_time_dt\": \"2022-06-02T12:35:09.488245Z\", \"duration\": \"0:00:49\", \"iteration\": \"0\", \"goal\": \"accuracy_max\", \"run_name\": \"MaxAbsScaler, LightGBM\", \"run_properties\": \"copy=True\", \"primary_metric\": 0.80446927, \"best_metric\": 0.80446927}, {\"run_id\": \"AutoML_90d85e2e-c635-453e-8fe3-e32ec570cbe5_worker_0\", \"run_number\": 1654173310, \"metric\": null, \"status\": \"Completed\", \"run_type\": \"azureml.scriptrun\", \"training_percent\": null, \"start_time\": \"2022-06-02T12:35:17.000736Z\", \"end_time\": \"2022-06-02T12:37:02.189479Z\", \"created_time\": \"2022-06-02T12:35:10.862257Z\", \"created_time_dt\": \"2022-06-02T12:35:10.862257Z\", \"duration\": \"0:01:51\", \"iteration\": null, \"goal\": null, \"run_name\": \"Completed\", \"run_properties\": null}, {\"run_id\": \"AutoML_90d85e2e-c635-453e-8fe3-e32ec570cbe5_5\", \"run_number\": 1654173311, \"metric\": null, \"status\": \"Completed\", \"run_type\": null, \"training_percent\": \"100\", \"start_time\": \"2022-06-02T12:37:40.089369Z\", \"end_time\": \"2022-06-02T12:37:54.682816Z\", \"created_time\": \"2022-06-02T12:35:11.35021Z\", \"created_time_dt\": \"2022-06-02T12:35:11.35021Z\", \"duration\": \"0:02:43\", \"iteration\": \"5\", \"goal\": \"accuracy_max\", \"run_name\": \"MaxAbsScaler, LightGBM\", \"run_properties\": \"copy=True\", \"primary_metric\": 0.79329609, \"best_metric\": 0.80446927}, {\"run_id\": \"AutoML_90d85e2e-c635-453e-8fe3-e32ec570cbe5_worker_1\", \"run_number\": 1654173312, \"metric\": null, \"status\": \"Completed\", \"run_type\": \"azureml.scriptrun\", \"training_percent\": null, \"start_time\": \"2022-06-02T12:37:06.533801Z\", \"end_time\": \"2022-06-02T12:38:43.998604Z\", \"created_time\": \"2022-06-02T12:35:12.341149Z\", \"created_time_dt\": \"2022-06-02T12:35:12.341149Z\", \"duration\": \"0:03:31\", \"iteration\": null, \"goal\": null, \"run_name\": \"Completed\", \"run_properties\": null}, {\"run_id\": \"AutoML_90d85e2e-c635-453e-8fe3-e32ec570cbe5_worker_2\", \"run_number\": 1654173313, \"metric\": null, \"status\": \"Completed\", \"run_type\": \"azureml.scriptrun\", \"training_percent\": null, \"start_time\": \"2022-06-02T12:38:35.689773Z\", \"end_time\": \"2022-06-02T12:42:57.703005Z\", \"created_time\": \"2022-06-02T12:35:13.836692Z\", \"created_time_dt\": \"2022-06-02T12:35:13.836692Z\", \"duration\": \"0:07:43\", \"iteration\": null, \"goal\": null, \"run_name\": \"Completed\", \"run_properties\": null}, {\"run_id\": \"AutoML_90d85e2e-c635-453e-8fe3-e32ec570cbe5_13\", \"run_number\": 1654173314, \"metric\": null, \"status\": \"Completed\", \"run_type\": null, \"training_percent\": \"100\", \"start_time\": \"2022-06-02T12:41:47.433734Z\", \"end_time\": \"2022-06-02T12:42:01.289039Z\", \"created_time\": \"2022-06-02T12:35:14.290364Z\", \"created_time_dt\": \"2022-06-02T12:35:14.290364Z\", \"duration\": \"0:06:46\", \"iteration\": \"13\", \"goal\": \"accuracy_max\", \"run_name\": \"MaxAbsScaler, SGD\", \"run_properties\": \"copy=True\", \"primary_metric\": 0.77094972, \"best_metric\": 0.80446927}, {\"run_id\": \"AutoML_90d85e2e-c635-453e-8fe3-e32ec570cbe5_worker_3\", \"run_number\": 1654173315, \"metric\": null, \"status\": \"Completed\", \"run_type\": \"azureml.scriptrun\", \"training_percent\": null, \"start_time\": \"2022-06-02T12:38:35.936143Z\", \"end_time\": \"2022-06-02T12:42:52.584116Z\", \"created_time\": \"2022-06-02T12:35:15.209946Z\", \"created_time_dt\": \"2022-06-02T12:35:15.209946Z\", \"duration\": \"0:07:37\", \"iteration\": null, \"goal\": null, \"run_name\": \"Completed\", \"run_properties\": null}, {\"run_id\": \"AutoML_90d85e2e-c635-453e-8fe3-e32ec570cbe5_worker_4\", \"run_number\": 1654173316, \"metric\": null, \"status\": \"Completed\", \"run_type\": \"azureml.scriptrun\", \"training_percent\": null, \"start_time\": \"2022-06-02T12:38:35.831993Z\", \"end_time\": \"2022-06-02T12:42:43.371857Z\", \"created_time\": \"2022-06-02T12:35:16.584779Z\", \"created_time_dt\": \"2022-06-02T12:35:16.584779Z\", \"duration\": \"0:07:26\", \"iteration\": null, \"goal\": null, \"run_name\": \"Completed\", \"run_properties\": null}, {\"run_id\": \"AutoML_90d85e2e-c635-453e-8fe3-e32ec570cbe5_20\", \"run_number\": 1654173741, \"metric\": null, \"status\": \"Completed\", \"run_type\": \"azureml.scriptrun\", \"training_percent\": \"100\", \"start_time\": \"2022-06-02T12:42:36.203015Z\", \"end_time\": \"2022-06-02T12:43:23.143484Z\", \"created_time\": \"2022-06-02T12:42:21.854046Z\", \"created_time_dt\": \"2022-06-02T12:42:21.854046Z\", \"duration\": \"0:01:01\", \"iteration\": \"20\", \"goal\": \"accuracy_max\", \"run_name\": \"TruncatedSVDWrapper, RandomForest\", \"run_properties\": \"n_components=0.7026315789473684, random_state=None\", \"primary_metric\": 0.77653631, \"best_metric\": 0.80446927}, {\"run_id\": \"AutoML_90d85e2e-c635-453e-8fe3-e32ec570cbe5_23\", \"run_number\": 1654173785, \"metric\": null, \"status\": \"Completed\", \"run_type\": \"azureml.scriptrun\", \"training_percent\": \"100\", \"start_time\": \"2022-06-02T12:43:12.178549Z\", \"end_time\": \"2022-06-02T12:44:02.775318Z\", \"created_time\": \"2022-06-02T12:43:05.828499Z\", \"created_time_dt\": \"2022-06-02T12:43:05.828499Z\", \"duration\": \"0:00:56\", \"iteration\": \"23\", \"goal\": \"accuracy_max\", \"run_name\": \"StandardScalerWrapper, LogisticRegression\", \"run_properties\": \"copy=True, with_mean=False, with_std=True\", \"primary_metric\": 0.80446927, \"best_metric\": 0.80446927}, {\"run_id\": \"AutoML_90d85e2e-c635-453e-8fe3-e32ec570cbe5_25\", \"run_number\": 1654173807, \"metric\": null, \"status\": \"Completed\", \"run_type\": \"azureml.scriptrun\", \"training_percent\": \"100\", \"start_time\": \"2022-06-02T12:43:34.481348Z\", \"end_time\": \"2022-06-02T12:44:22.986514Z\", \"created_time\": \"2022-06-02T12:43:27.05687Z\", \"created_time_dt\": \"2022-06-02T12:43:27.05687Z\", \"duration\": \"0:00:55\", \"iteration\": \"25\", \"goal\": \"accuracy_max\", \"run_name\": \"SparseNormalizer, LogisticRegression\", \"run_properties\": \"copy=True, norm='l1'\", \"primary_metric\": 0.62011173, \"best_metric\": 0.80446927}, {\"run_id\": \"AutoML_90d85e2e-c635-453e-8fe3-e32ec570cbe5_26\", \"run_number\": 1654173841, \"metric\": null, \"status\": \"Completed\", \"run_type\": \"azureml.scriptrun\", \"training_percent\": \"100\", \"start_time\": \"2022-06-02T12:44:06.751716Z\", \"end_time\": \"2022-06-02T12:44:52.638436Z\", \"created_time\": \"2022-06-02T12:44:01.613662Z\", \"created_time_dt\": \"2022-06-02T12:44:01.613662Z\", \"duration\": \"0:00:51\", \"iteration\": \"26\", \"goal\": \"accuracy_max\", \"run_name\": \"SparseNormalizer, XGBoostClassifier\", \"run_properties\": \"copy=True, norm='l1'\", \"primary_metric\": 0.79888268, \"best_metric\": 0.80446927}, {\"run_id\": \"AutoML_90d85e2e-c635-453e-8fe3-e32ec570cbe5_27\", \"run_number\": 1654173843, \"metric\": null, \"status\": \"Completed\", \"run_type\": \"azureml.scriptrun\", \"training_percent\": \"100\", \"start_time\": \"2022-06-02T12:44:10.698695Z\", \"end_time\": \"2022-06-02T12:44:56.821985Z\", \"created_time\": \"2022-06-02T12:44:03.833738Z\", \"created_time_dt\": \"2022-06-02T12:44:03.833738Z\", \"duration\": \"0:00:52\", \"iteration\": \"27\", \"goal\": \"accuracy_max\", \"run_name\": \"SparseNormalizer, XGBoostClassifier\", \"run_properties\": \"copy=True, norm='max'\", \"primary_metric\": 0.79329609, \"best_metric\": 0.80446927}, {\"run_id\": \"AutoML_90d85e2e-c635-453e-8fe3-e32ec570cbe5_28\", \"run_number\": 1654173847, \"metric\": null, \"status\": \"Failed\", \"run_type\": \"azureml.scriptrun\", \"training_percent\": \"100\", \"start_time\": \"2022-06-02T12:44:11.699226Z\", \"end_time\": \"2022-06-02T12:45:01.995245Z\", \"created_time\": \"2022-06-02T12:44:07.128155Z\", \"created_time_dt\": \"2022-06-02T12:44:07.128155Z\", \"duration\": \"0:00:54\", \"iteration\": \"28\", \"goal\": \"accuracy_max\", \"run_name\": \"SparseNormalizer, XGBoostClassifier\", \"run_properties\": \"copy=True, norm='l2'\", \"primary_metric\": 0.82122905, \"best_metric\": 0.82122905}, {\"run_id\": \"AutoML_90d85e2e-c635-453e-8fe3-e32ec570cbe5_29\", \"run_number\": 1654173864, \"metric\": null, \"status\": \"Completed\", \"run_type\": \"azureml.scriptrun\", \"training_percent\": \"100\", \"start_time\": \"2022-06-02T12:44:31.858257Z\", \"end_time\": \"2022-06-02T12:45:18.286054Z\", \"created_time\": \"2022-06-02T12:44:24.682034Z\", \"created_time_dt\": \"2022-06-02T12:44:24.682034Z\", \"duration\": \"0:00:53\", \"iteration\": \"29\", \"goal\": \"accuracy_max\", \"run_name\": \"SparseNormalizer, XGBoostClassifier\", \"run_properties\": \"copy=True, norm='l2'\", \"primary_metric\": 0.81005587, \"best_metric\": 0.82122905}, {\"run_id\": \"AutoML_90d85e2e-c635-453e-8fe3-e32ec570cbe5_30\", \"run_number\": 1654173896, \"metric\": null, \"status\": \"Completed\", \"run_type\": \"azureml.scriptrun\", \"training_percent\": \"100\", \"start_time\": \"2022-06-02T12:45:04.05368Z\", \"end_time\": \"2022-06-02T12:45:52.393644Z\", \"created_time\": \"2022-06-02T12:44:56.551003Z\", \"created_time_dt\": \"2022-06-02T12:44:56.551003Z\", \"duration\": \"0:00:55\", \"iteration\": \"30\", \"goal\": \"accuracy_max\", \"run_name\": \"SparseNormalizer, LogisticRegression\", \"run_properties\": \"copy=True, norm='max'\", \"primary_metric\": 0.38547486, \"best_metric\": 0.82122905}, {\"run_id\": \"AutoML_90d85e2e-c635-453e-8fe3-e32ec570cbe5_31\", \"run_number\": 1654173898, \"metric\": null, \"status\": \"Completed\", \"run_type\": \"azureml.scriptrun\", \"training_percent\": \"100\", \"start_time\": \"2022-06-02T12:45:05.072165Z\", \"end_time\": \"2022-06-02T12:45:50.926682Z\", \"created_time\": \"2022-06-02T12:44:58.865678Z\", \"created_time_dt\": \"2022-06-02T12:44:58.865678Z\", \"duration\": \"0:00:52\", \"iteration\": \"31\", \"goal\": \"accuracy_max\", \"run_name\": \"StandardScalerWrapper, XGBoostClassifier\", \"run_properties\": \"copy=True, with_mean=False, with_std=False\", \"primary_metric\": 0.77653631, \"best_metric\": 0.82122905}, {\"run_id\": \"AutoML_90d85e2e-c635-453e-8fe3-e32ec570cbe5_32\", \"run_number\": 1654173903, \"metric\": null, \"status\": \"Failed\", \"run_type\": \"azureml.scriptrun\", \"training_percent\": \"100\", \"start_time\": \"2022-06-02T12:45:09.048379Z\", \"end_time\": \"2022-06-02T12:45:59.688357Z\", \"created_time\": \"2022-06-02T12:45:03.632883Z\", \"created_time_dt\": \"2022-06-02T12:45:03.632883Z\", \"duration\": \"0:00:56\", \"iteration\": \"32\", \"goal\": \"accuracy_max\", \"run_name\": \"StandardScalerWrapper, XGBoostClassifier\", \"run_properties\": \"copy=True, with_mean=False, with_std=False\", \"primary_metric\": 0.77653631, \"best_metric\": 0.82122905}, {\"run_id\": \"AutoML_90d85e2e-c635-453e-8fe3-e32ec570cbe5_33\", \"run_number\": 1654173919, \"metric\": null, \"status\": \"Completed\", \"run_type\": \"azureml.scriptrun\", \"training_percent\": \"100\", \"start_time\": \"2022-06-02T12:45:26.461171Z\", \"end_time\": \"2022-06-02T12:46:12.657175Z\", \"created_time\": \"2022-06-02T12:45:19.826559Z\", \"created_time_dt\": \"2022-06-02T12:45:19.826559Z\", \"duration\": \"0:00:52\", \"iteration\": \"33\", \"goal\": \"accuracy_max\", \"run_name\": \"SparseNormalizer, XGBoostClassifier\", \"run_properties\": \"copy=True, norm='l2'\", \"primary_metric\": 0.80446927, \"best_metric\": 0.82122905}, {\"run_id\": \"AutoML_90d85e2e-c635-453e-8fe3-e32ec570cbe5_34\", \"run_number\": 1654173952, \"metric\": null, \"status\": \"Completed\", \"run_type\": \"azureml.scriptrun\", \"training_percent\": \"100\", \"start_time\": \"2022-06-02T12:45:57.900444Z\", \"end_time\": \"2022-06-02T12:46:42.656311Z\", \"created_time\": \"2022-06-02T12:45:52.761774Z\", \"created_time_dt\": \"2022-06-02T12:45:52.761774Z\", \"duration\": \"0:00:49\", \"iteration\": \"34\", \"goal\": \"accuracy_max\", \"run_name\": \"SparseNormalizer, XGBoostClassifier\", \"run_properties\": \"copy=True, norm='max'\", \"primary_metric\": 0.7877095, \"best_metric\": 0.82122905}, {\"run_id\": \"AutoML_90d85e2e-c635-453e-8fe3-e32ec570cbe5_35\", \"run_number\": 1654173956, \"metric\": null, \"status\": \"Completed\", \"run_type\": \"azureml.scriptrun\", \"training_percent\": \"100\", \"start_time\": \"2022-06-02T12:46:00.735464Z\", \"end_time\": \"2022-06-02T12:46:47.706457Z\", \"created_time\": \"2022-06-02T12:45:56.030342Z\", \"created_time_dt\": \"2022-06-02T12:45:56.030342Z\", \"duration\": \"0:00:51\", \"iteration\": \"35\", \"goal\": \"accuracy_max\", \"run_name\": \"SparseNormalizer, XGBoostClassifier\", \"run_properties\": \"copy=True, norm='max'\", \"primary_metric\": 0.80446927, \"best_metric\": 0.82122905}, {\"run_id\": \"AutoML_90d85e2e-c635-453e-8fe3-e32ec570cbe5_36\", \"run_number\": 1654173961, \"metric\": null, \"status\": \"Completed\", \"run_type\": \"azureml.scriptrun\", \"training_percent\": \"100\", \"start_time\": \"2022-06-02T12:46:06.719603Z\", \"end_time\": \"2022-06-02T12:46:53.10795Z\", \"created_time\": \"2022-06-02T12:46:01.400389Z\", \"created_time_dt\": \"2022-06-02T12:46:01.400389Z\", \"duration\": \"0:00:51\", \"iteration\": \"36\", \"goal\": \"accuracy_max\", \"run_name\": \"StandardScalerWrapper, ExtremeRandomTrees\", \"run_properties\": \"copy=True, with_mean=False, with_std=False\", \"primary_metric\": 0.77653631, \"best_metric\": 0.82122905}, {\"run_id\": \"AutoML_90d85e2e-c635-453e-8fe3-e32ec570cbe5_37\", \"run_number\": 1654173972, \"metric\": null, \"status\": \"Completed\", \"run_type\": \"azureml.scriptrun\", \"training_percent\": \"100\", \"start_time\": \"2022-06-02T12:46:20.964359Z\", \"end_time\": \"2022-06-02T12:47:07.684865Z\", \"created_time\": \"2022-06-02T12:46:12.004113Z\", \"created_time_dt\": \"2022-06-02T12:46:12.004113Z\", \"duration\": \"0:00:55\", \"iteration\": \"37\", \"goal\": \"accuracy_max\", \"run_name\": \"SparseNormalizer, XGBoostClassifier\", \"run_properties\": \"copy=True, norm='l2'\", \"primary_metric\": 0.81005587, \"best_metric\": 0.82122905}, {\"run_id\": \"AutoML_90d85e2e-c635-453e-8fe3-e32ec570cbe5_38\", \"run_number\": 1654173974, \"metric\": null, \"status\": \"Completed\", \"run_type\": \"azureml.scriptrun\", \"training_percent\": \"100\", \"start_time\": \"2022-06-02T12:48:01.142561Z\", \"end_time\": \"2022-06-02T12:48:46.794773Z\", \"created_time\": \"2022-06-02T12:46:14.720866Z\", \"created_time_dt\": \"2022-06-02T12:46:14.720866Z\", \"duration\": \"0:02:32\", \"iteration\": \"38\", \"goal\": \"accuracy_max\", \"run_name\": \"SparseNormalizer, ExtremeRandomTrees\", \"run_properties\": \"copy=True, norm='l2'\", \"primary_metric\": 0.72067039, \"best_metric\": 0.82122905}, {\"run_id\": \"AutoML_90d85e2e-c635-453e-8fe3-e32ec570cbe5_39\", \"run_number\": 1654174004, \"metric\": null, \"status\": \"Completed\", \"run_type\": \"azureml.scriptrun\", \"training_percent\": \"100\", \"start_time\": \"2022-06-02T12:46:51.068598Z\", \"end_time\": \"2022-06-02T12:47:35.984925Z\", \"created_time\": \"2022-06-02T12:46:44.029667Z\", \"created_time_dt\": \"2022-06-02T12:46:44.029667Z\", \"duration\": \"0:00:51\", \"iteration\": \"39\", \"goal\": \"accuracy_max\", \"run_name\": \"MaxAbsScaler, SGD\", \"run_properties\": \"copy=True\", \"primary_metric\": 0.74860335, \"best_metric\": 0.82122905}, {\"run_id\": \"AutoML_90d85e2e-c635-453e-8fe3-e32ec570cbe5_40\", \"run_number\": 1654174010, \"metric\": null, \"status\": \"Completed\", \"run_type\": \"azureml.scriptrun\", \"training_percent\": \"100\", \"start_time\": \"2022-06-02T12:46:56.004292Z\", \"end_time\": \"2022-06-02T12:47:41.965306Z\", \"created_time\": \"2022-06-02T12:46:50.121452Z\", \"created_time_dt\": \"2022-06-02T12:46:50.121452Z\", \"duration\": \"0:00:51\", \"iteration\": \"40\", \"goal\": \"accuracy_max\", \"run_name\": \"SparseNormalizer, XGBoostClassifier\", \"run_properties\": \"copy=True, norm='max'\", \"primary_metric\": 0.82681564, \"best_metric\": 0.82681564}, {\"run_id\": \"AutoML_90d85e2e-c635-453e-8fe3-e32ec570cbe5_41\", \"run_number\": 1654174014, \"metric\": null, \"status\": \"Completed\", \"run_type\": \"azureml.scriptrun\", \"training_percent\": \"100\", \"start_time\": \"2022-06-02T12:47:01.003076Z\", \"end_time\": \"2022-06-02T12:47:55.721109Z\", \"created_time\": \"2022-06-02T12:46:54.63922Z\", \"created_time_dt\": \"2022-06-02T12:46:54.63922Z\", \"duration\": \"0:01:01\", \"iteration\": \"41\", \"goal\": \"accuracy_max\", \"run_name\": \"StandardScalerWrapper, LightGBM\", \"run_properties\": \"copy=True, with_mean=False, with_std=True\", \"primary_metric\": 0.81564246, \"best_metric\": 0.82681564}, {\"run_id\": \"AutoML_90d85e2e-c635-453e-8fe3-e32ec570cbe5_42\", \"run_number\": 1654174029, \"metric\": null, \"status\": \"Completed\", \"run_type\": \"azureml.scriptrun\", \"training_percent\": \"100\", \"start_time\": \"2022-06-02T12:47:16.165207Z\", \"end_time\": \"2022-06-02T12:48:02.307601Z\", \"created_time\": \"2022-06-02T12:47:09.149477Z\", \"created_time_dt\": \"2022-06-02T12:47:09.149477Z\", \"duration\": \"0:00:53\", \"iteration\": \"42\", \"goal\": \"accuracy_max\", \"run_name\": \"MaxAbsScaler, LogisticRegression\", \"run_properties\": \"copy=True\", \"primary_metric\": 0.81005587, \"best_metric\": 0.82681564}, {\"run_id\": \"AutoML_90d85e2e-c635-453e-8fe3-e32ec570cbe5_43\", \"run_number\": 1654174058, \"metric\": null, \"status\": \"Completed\", \"run_type\": \"azureml.scriptrun\", \"training_percent\": \"100\", \"start_time\": \"2022-06-02T12:47:48.206376Z\", \"end_time\": \"2022-06-02T12:48:39.514255Z\", \"created_time\": \"2022-06-02T12:47:38.568811Z\", \"created_time_dt\": \"2022-06-02T12:47:38.568811Z\", \"duration\": \"0:01:00\", \"iteration\": \"43\", \"goal\": \"accuracy_max\", \"run_name\": \"MaxAbsScaler, ExtremeRandomTrees\", \"run_properties\": \"copy=True\", \"primary_metric\": 0.73184358, \"best_metric\": 0.82681564}, {\"run_id\": \"AutoML_90d85e2e-c635-453e-8fe3-e32ec570cbe5_44\", \"run_number\": 1654174063, \"metric\": null, \"status\": \"Completed\", \"run_type\": \"azureml.scriptrun\", \"training_percent\": \"100\", \"start_time\": \"2022-06-02T12:47:48.321406Z\", \"end_time\": \"2022-06-02T12:48:34.375804Z\", \"created_time\": \"2022-06-02T12:47:43.41324Z\", \"created_time_dt\": \"2022-06-02T12:47:43.41324Z\", \"duration\": \"0:00:50\", \"iteration\": \"44\", \"goal\": \"accuracy_max\", \"run_name\": \"StandardScalerWrapper, XGBoostClassifier\", \"run_properties\": \"copy=True, with_mean=False, with_std=False\", \"primary_metric\": 0.77653631, \"best_metric\": 0.82681564}, {\"run_id\": \"AutoML_90d85e2e-c635-453e-8fe3-e32ec570cbe5_45\", \"run_number\": 1654174078, \"metric\": null, \"status\": \"Completed\", \"run_type\": \"azureml.scriptrun\", \"training_percent\": \"100\", \"start_time\": \"2022-06-02T12:48:03.156312Z\", \"end_time\": \"2022-06-02T12:48:49.246137Z\", \"created_time\": \"2022-06-02T12:47:58.238141Z\", \"created_time_dt\": \"2022-06-02T12:47:58.238141Z\", \"duration\": \"0:00:51\", \"iteration\": \"45\", \"goal\": \"accuracy_max\", \"run_name\": \"StandardScalerWrapper, XGBoostClassifier\", \"run_properties\": \"copy=True, with_mean=False, with_std=False\", \"primary_metric\": 0.80446927, \"best_metric\": 0.82681564}, {\"run_id\": \"AutoML_90d85e2e-c635-453e-8fe3-e32ec570cbe5_46\", \"run_number\": 1654174083, \"metric\": null, \"status\": \"Completed\", \"run_type\": \"azureml.scriptrun\", \"training_percent\": \"100\", \"start_time\": \"2022-06-02T12:48:09.406226Z\", \"end_time\": \"2022-06-02T12:48:57.195403Z\", \"created_time\": \"2022-06-02T12:48:03.829996Z\", \"created_time_dt\": \"2022-06-02T12:48:03.829996Z\", \"duration\": \"0:00:53\", \"iteration\": \"46\", \"goal\": \"accuracy_max\", \"run_name\": \"StandardScalerWrapper, ExtremeRandomTrees\", \"run_properties\": \"copy=True, with_mean=False, with_std=False\", \"primary_metric\": 0.77653631, \"best_metric\": 0.82681564}, {\"run_id\": \"AutoML_90d85e2e-c635-453e-8fe3-e32ec570cbe5_47\", \"run_number\": 1654174115, \"metric\": null, \"status\": \"Completed\", \"run_type\": \"azureml.scriptrun\", \"training_percent\": \"100\", \"start_time\": \"2022-06-02T12:48:44.641129Z\", \"end_time\": \"2022-06-02T12:49:33.866652Z\", \"created_time\": \"2022-06-02T12:48:35.828592Z\", \"created_time_dt\": \"2022-06-02T12:48:35.828592Z\", \"duration\": \"0:00:58\", \"iteration\": \"47\", \"goal\": \"accuracy_max\", \"run_name\": \"SparseNormalizer, ExtremeRandomTrees\", \"run_properties\": \"copy=True, norm='l1'\", \"primary_metric\": 0.70949721, \"best_metric\": 0.82681564}, {\"run_id\": \"AutoML_90d85e2e-c635-453e-8fe3-e32ec570cbe5_48\", \"run_number\": 1654174120, \"metric\": null, \"status\": \"Completed\", \"run_type\": \"azureml.scriptrun\", \"training_percent\": \"100\", \"start_time\": \"2022-06-02T12:48:45.601273Z\", \"end_time\": \"2022-06-02T12:49:32.569685Z\", \"created_time\": \"2022-06-02T12:48:40.957955Z\", \"created_time_dt\": \"2022-06-02T12:48:40.957955Z\", \"duration\": \"0:00:51\", \"iteration\": \"48\", \"goal\": \"accuracy_max\", \"run_name\": \"SparseNormalizer, XGBoostClassifier\", \"run_properties\": \"copy=True, norm='max'\", \"primary_metric\": 0.81005587, \"best_metric\": 0.82681564}, {\"run_id\": \"AutoML_90d85e2e-c635-453e-8fe3-e32ec570cbe5_49\", \"run_number\": 1654174128, \"metric\": null, \"status\": \"Completed\", \"run_type\": \"azureml.scriptrun\", \"training_percent\": \"100\", \"start_time\": \"2022-06-02T12:48:54.776787Z\", \"end_time\": \"2022-06-02T12:49:40.848519Z\", \"created_time\": \"2022-06-02T12:48:48.367707Z\", \"created_time_dt\": \"2022-06-02T12:48:48.367707Z\", \"duration\": \"0:00:52\", \"iteration\": \"49\", \"goal\": \"accuracy_max\", \"run_name\": \"SparseNormalizer, XGBoostClassifier\", \"run_properties\": \"copy=True, norm='max'\", \"primary_metric\": 0.77653631, \"best_metric\": 0.82681564}, {\"run_id\": \"AutoML_90d85e2e-c635-453e-8fe3-e32ec570cbe5_50\", \"run_number\": 1654174131, \"metric\": null, \"status\": \"Completed\", \"run_type\": \"azureml.scriptrun\", \"training_percent\": \"100\", \"start_time\": \"2022-06-02T12:48:57.754696Z\", \"end_time\": \"2022-06-02T12:49:48.898635Z\", \"created_time\": \"2022-06-02T12:48:51.792187Z\", \"created_time_dt\": \"2022-06-02T12:48:51.792187Z\", \"duration\": \"0:00:57\", \"iteration\": \"50\", \"goal\": \"accuracy_max\", \"run_name\": \"SparseNormalizer, XGBoostClassifier\", \"run_properties\": \"copy=True, norm='max'\", \"primary_metric\": 0.79329609, \"best_metric\": 0.82681564}, {\"run_id\": \"AutoML_90d85e2e-c635-453e-8fe3-e32ec570cbe5_51\", \"run_number\": 1654174139, \"metric\": null, \"status\": \"Completed\", \"run_type\": \"azureml.scriptrun\", \"training_percent\": \"100\", \"start_time\": \"2022-06-02T12:49:05.935496Z\", \"end_time\": \"2022-06-02T12:49:55.005723Z\", \"created_time\": \"2022-06-02T12:48:59.413189Z\", \"created_time_dt\": \"2022-06-02T12:48:59.413189Z\", \"duration\": \"0:00:55\", \"iteration\": \"51\", \"goal\": \"accuracy_max\", \"run_name\": \"StandardScalerWrapper, XGBoostClassifier\", \"run_properties\": \"copy=True, with_mean=False, with_std=False\", \"primary_metric\": 0.75977654, \"best_metric\": 0.82681564}, {\"run_id\": \"AutoML_90d85e2e-c635-453e-8fe3-e32ec570cbe5_52\", \"run_number\": 1654174174, \"metric\": null, \"status\": \"Completed\", \"run_type\": \"azureml.scriptrun\", \"training_percent\": \"100\", \"start_time\": \"2022-06-02T12:49:40.113019Z\", \"end_time\": \"2022-06-02T12:50:25.95225Z\", \"created_time\": \"2022-06-02T12:49:34.048902Z\", \"created_time_dt\": \"2022-06-02T12:49:34.048902Z\", \"duration\": \"0:00:51\", \"iteration\": \"52\", \"goal\": \"accuracy_max\", \"run_name\": \"StandardScalerWrapper, XGBoostClassifier\", \"run_properties\": \"copy=True, with_mean=False, with_std=False\", \"primary_metric\": 0.77653631, \"best_metric\": 0.82681564}, {\"run_id\": \"AutoML_90d85e2e-c635-453e-8fe3-e32ec570cbe5_53\", \"run_number\": 1654174176, \"metric\": null, \"status\": \"Completed\", \"run_type\": \"azureml.scriptrun\", \"training_percent\": \"100\", \"start_time\": \"2022-06-02T12:49:41.083283Z\", \"end_time\": \"2022-06-02T12:50:28.28669Z\", \"created_time\": \"2022-06-02T12:49:36.168793Z\", \"created_time_dt\": \"2022-06-02T12:49:36.168793Z\", \"duration\": \"0:00:52\", \"iteration\": \"53\", \"goal\": \"accuracy_max\", \"run_name\": \"SparseNormalizer, XGBoostClassifier\", \"run_properties\": \"copy=True, norm='l2'\", \"primary_metric\": 0.77094972, \"best_metric\": 0.82681564}, {\"run_id\": \"AutoML_90d85e2e-c635-453e-8fe3-e32ec570cbe5_54\", \"run_number\": 1654174182, \"metric\": null, \"status\": \"Canceled\", \"run_type\": \"azureml.scriptrun\", \"training_percent\": \"100\", \"start_time\": \"2022-06-02T12:49:47.216643Z\", \"end_time\": \"2022-06-02T12:50:32.851867Z\", \"created_time\": \"2022-06-02T12:49:42.461467Z\", \"created_time_dt\": \"2022-06-02T12:49:42.461467Z\", \"duration\": \"0:00:50\", \"iteration\": \"54\", \"goal\": \"accuracy_max\", \"run_name\": \"StandardScalerWrapper, XGBoostClassifier\", \"run_properties\": \"copy=True, with_mean=False, with_std=False\", \"primary_metric\": 0.79888268, \"best_metric\": 0.82681564}, {\"run_id\": \"AutoML_90d85e2e-c635-453e-8fe3-e32ec570cbe5_55\", \"run_number\": 1654174191, \"metric\": null, \"status\": \"Canceled\", \"run_type\": \"azureml.scriptrun\", \"training_percent\": \"100\", \"start_time\": \"2022-06-02T12:49:56.438296Z\", \"end_time\": \"2022-06-02T12:50:29.114412Z\", \"created_time\": \"2022-06-02T12:49:51.360232Z\", \"created_time_dt\": \"2022-06-02T12:49:51.360232Z\", \"duration\": \"0:00:37\", \"iteration\": \"55\", \"goal\": \"accuracy_max\", \"run_name\": \"StandardScalerWrapper, XGBoostClassifier\", \"run_properties\": \"copy=True, with_mean=False, with_std=False\", \"primary_metric\": 0.80446927, \"best_metric\": 0.82681564}, {\"run_id\": \"AutoML_90d85e2e-c635-453e-8fe3-e32ec570cbe5_56\", \"run_number\": 1654174196, \"metric\": null, \"status\": \"Canceled\", \"run_type\": \"azureml.scriptrun\", \"training_percent\": \"100\", \"start_time\": \"2022-06-02T12:50:02.5638Z\", \"end_time\": \"2022-06-02T12:50:32.739028Z\", \"created_time\": \"2022-06-02T12:49:56.490488Z\", \"created_time_dt\": \"2022-06-02T12:49:56.490488Z\", \"duration\": \"0:00:36\", \"iteration\": \"56\", \"goal\": \"accuracy_max\", \"run_name\": \"MaxAbsScaler, ExtremeRandomTrees\", \"run_properties\": \"copy=True\", \"primary_metric\": 0.77653631, \"best_metric\": 0.82681564}, {\"run_id\": \"AutoML_90d85e2e-c635-453e-8fe3-e32ec570cbe5_57\", \"run_number\": 1654174227, \"metric\": null, \"status\": \"Canceled\", \"run_type\": \"azureml.scriptrun\", \"training_percent\": \"100\", \"start_time\": \"2022-06-02T12:50:28.934688Z\", \"end_time\": \"2022-06-02T12:50:29.879981Z\", \"created_time\": \"2022-06-02T12:50:27.444021Z\", \"created_time_dt\": \"2022-06-02T12:50:27.444021Z\", \"duration\": \"0:00:02\", \"iteration\": \"57\", \"goal\": \"accuracy_max\", \"run_name\": \"StandardScalerWrapper, XGBoostClassifier\", \"run_properties\": \"copy=True, with_mean=False, with_std=False\", \"primary_metric\": 0.76536313, \"best_metric\": 0.82681564}], \"children_metrics\": {\"categories\": [0], \"series\": {\"f1_score_macro\": [{\"categories\": [\"0\", \"5\", \"13\", \"20\", \"23\", \"25\", \"26\", \"27\", \"28\", \"29\", \"30\", \"31\", \"32\", \"33\", \"34\", \"35\", \"36\", \"37\", \"38\", \"39\", \"40\", \"41\", \"42\", \"43\", \"44\", \"45\", \"46\", \"47\", \"48\", \"49\", \"50\", \"51\", \"52\", \"53\", \"54\", \"55\", \"56\", \"57\"], \"mode\": \"markers\", \"name\": \"f1_score_macro\", \"stepped\": false, \"type\": \"scatter\", \"data\": [0.7930772533606367, 0.7584345479082322, 0.760139882995065, 0.7665623369848723, 0.7879218712975187, 0.5624101236698303, 0.785314498933902, 0.7800033217073576, 0.7994397759103642, 0.7932744565217391, 0.27822580645161293, 0.7449415787973782, 0.7584345479082322, 0.784892703862661, 0.7719898096004291, 0.7918950340475004, 0.7584345479082322, 0.7886218393998333, 0.7131410256410255, 0.7391937833899951, 0.8145697577276525, 0.7971845493562231, 0.7932744565217391, 0.7246153846153847, 0.7567934782608696, 0.7906432748538013, 0.7584345479082322, 0.7005148005148005, 0.7972414712153517, 0.7599892732636095, 0.7786800334168755, 0.7134080500428193, 0.7449415787973782, 0.7480171673819742, 0.7825910931174089, 0.7918950340475004, 0.7584345479082322, 0.7463562753036437]}, {\"categories\": [\"0\", \"5\", \"13\", \"20\", \"23\", \"25\", \"26\", \"27\", \"28\", \"29\", \"30\", \"31\", \"32\", \"33\", \"34\", \"35\", \"36\", \"37\", \"38\", \"39\", \"40\", \"41\", \"42\", \"43\", \"44\", \"45\", \"46\", \"47\", \"48\", \"49\", \"50\", \"51\", \"52\", \"53\", \"54\", \"55\", \"56\", \"57\"], \"mode\": \"lines\", \"name\": \"f1_score_macro_max\", \"stepped\": true, \"type\": \"scatter\", \"data\": [0.7930772533606367, 0.7930772533606367, 0.7930772533606367, 0.7930772533606367, 0.7930772533606367, 0.7930772533606367, 0.7930772533606367, 0.7930772533606367, 0.7994397759103642, 0.7994397759103642, 0.7994397759103642, 0.7994397759103642, 0.7994397759103642, 0.7994397759103642, 0.7994397759103642, 0.7994397759103642, 0.7994397759103642, 0.7994397759103642, 0.7994397759103642, 0.7994397759103642, 0.8145697577276525, 0.8145697577276525, 0.8145697577276525, 0.8145697577276525, 0.8145697577276525, 0.8145697577276525, 0.8145697577276525, 0.8145697577276525, 0.8145697577276525, 0.8145697577276525, 0.8145697577276525, 0.8145697577276525, 0.8145697577276525, 0.8145697577276525, 0.8145697577276525, 0.8145697577276525, 0.8145697577276525, 0.8145697577276525]}], \"precision_score_micro\": [{\"categories\": [\"0\", \"5\", \"13\", \"20\", \"23\", \"25\", \"26\", \"27\", \"28\", \"29\", \"30\", \"31\", \"32\", \"33\", \"34\", \"35\", \"36\", \"37\", \"38\", \"39\", \"40\", \"41\", \"42\", \"43\", \"44\", \"45\", \"46\", \"47\", \"48\", \"49\", \"50\", \"51\", \"52\", \"53\", \"54\", \"55\", \"56\", \"57\"], \"mode\": \"markers\", \"name\": \"precision_score_micro\", \"stepped\": false, \"type\": \"scatter\", \"data\": [0.8044692737430168, 0.7932960893854749, 0.770949720670391, 0.776536312849162, 0.8044692737430168, 0.6201117318435754, 0.7988826815642458, 0.7932960893854749, 0.8212290502793296, 0.8100558659217877, 0.3854748603351955, 0.776536312849162, 0.776536312849162, 0.8044692737430168, 0.7877094972067039, 0.8044692737430168, 0.776536312849162, 0.8100558659217877, 0.7206703910614525, 0.7486033519553073, 0.8268156424581006, 0.8156424581005587, 0.8100558659217877, 0.7318435754189944, 0.776536312849162, 0.8044692737430168, 0.776536312849162, 0.7094972067039106, 0.8100558659217877, 0.776536312849162, 0.7932960893854749, 0.7597765363128491, 0.776536312849162, 0.770949720670391, 0.7988826815642458, 0.8044692737430168, 0.776536312849162, 0.7653631284916201]}, {\"categories\": [\"0\", \"5\", \"13\", \"20\", \"23\", \"25\", \"26\", \"27\", \"28\", \"29\", \"30\", \"31\", \"32\", \"33\", \"34\", \"35\", \"36\", \"37\", \"38\", \"39\", \"40\", \"41\", \"42\", \"43\", \"44\", \"45\", \"46\", \"47\", \"48\", \"49\", \"50\", \"51\", \"52\", \"53\", \"54\", \"55\", \"56\", \"57\"], \"mode\": \"lines\", \"name\": \"precision_score_micro_max\", \"stepped\": true, \"type\": \"scatter\", \"data\": [0.8044692737430168, 0.8044692737430168, 0.8044692737430168, 0.8044692737430168, 0.8044692737430168, 0.8044692737430168, 0.8044692737430168, 0.8044692737430168, 0.8212290502793296, 0.8212290502793296, 0.8212290502793296, 0.8212290502793296, 0.8212290502793296, 0.8212290502793296, 0.8212290502793296, 0.8212290502793296, 0.8212290502793296, 0.8212290502793296, 0.8212290502793296, 0.8212290502793296, 0.8268156424581006, 0.8268156424581006, 0.8268156424581006, 0.8268156424581006, 0.8268156424581006, 0.8268156424581006, 0.8268156424581006, 0.8268156424581006, 0.8268156424581006, 0.8268156424581006, 0.8268156424581006, 0.8268156424581006, 0.8268156424581006, 0.8268156424581006, 0.8268156424581006, 0.8268156424581006, 0.8268156424581006, 0.8268156424581006]}], \"f1_score_micro\": [{\"categories\": [\"0\", \"5\", \"13\", \"20\", \"23\", \"25\", \"26\", \"27\", \"28\", \"29\", \"30\", \"31\", \"32\", \"33\", \"34\", \"35\", \"36\", \"37\", \"38\", \"39\", \"40\", \"41\", \"42\", \"43\", \"44\", \"45\", \"46\", \"47\", \"48\", \"49\", \"50\", \"51\", \"52\", \"53\", \"54\", \"55\", \"56\", \"57\"], \"mode\": \"markers\", \"name\": \"f1_score_micro\", \"stepped\": false, \"type\": \"scatter\", \"data\": [0.8044692737430168, 0.7932960893854749, 0.770949720670391, 0.776536312849162, 0.8044692737430168, 0.6201117318435754, 0.7988826815642458, 0.7932960893854749, 0.8212290502793297, 0.8100558659217877, 0.3854748603351955, 0.776536312849162, 0.776536312849162, 0.8044692737430168, 0.7877094972067039, 0.8044692737430168, 0.776536312849162, 0.8100558659217877, 0.7206703910614526, 0.7486033519553071, 0.8268156424581006, 0.8156424581005587, 0.8100558659217877, 0.7318435754189944, 0.776536312849162, 0.8044692737430168, 0.776536312849162, 0.7094972067039106, 0.8100558659217877, 0.776536312849162, 0.7932960893854749, 0.7597765363128491, 0.776536312849162, 0.770949720670391, 0.7988826815642458, 0.8044692737430168, 0.776536312849162, 0.7653631284916201]}, {\"categories\": [\"0\", \"5\", \"13\", \"20\", \"23\", \"25\", \"26\", \"27\", \"28\", \"29\", \"30\", \"31\", \"32\", \"33\", \"34\", \"35\", \"36\", \"37\", \"38\", \"39\", \"40\", \"41\", \"42\", \"43\", \"44\", \"45\", \"46\", \"47\", \"48\", \"49\", \"50\", \"51\", \"52\", \"53\", \"54\", \"55\", \"56\", \"57\"], \"mode\": \"lines\", \"name\": \"f1_score_micro_max\", \"stepped\": true, \"type\": \"scatter\", \"data\": [0.8044692737430168, 0.8044692737430168, 0.8044692737430168, 0.8044692737430168, 0.8044692737430168, 0.8044692737430168, 0.8044692737430168, 0.8044692737430168, 0.8212290502793297, 0.8212290502793297, 0.8212290502793297, 0.8212290502793297, 0.8212290502793297, 0.8212290502793297, 0.8212290502793297, 0.8212290502793297, 0.8212290502793297, 0.8212290502793297, 0.8212290502793297, 0.8212290502793297, 0.8268156424581006, 0.8268156424581006, 0.8268156424581006, 0.8268156424581006, 0.8268156424581006, 0.8268156424581006, 0.8268156424581006, 0.8268156424581006, 0.8268156424581006, 0.8268156424581006, 0.8268156424581006, 0.8268156424581006, 0.8268156424581006, 0.8268156424581006, 0.8268156424581006, 0.8268156424581006, 0.8268156424581006, 0.8268156424581006]}], \"AUC_micro\": [{\"categories\": [\"0\", \"5\", \"13\", \"20\", \"23\", \"25\", \"26\", \"27\", \"28\", \"29\", \"30\", \"31\", \"32\", \"33\", \"34\", \"35\", \"36\", \"37\", \"38\", \"39\", \"40\", \"41\", \"42\", \"43\", \"44\", \"45\", \"46\", \"47\", \"48\", \"49\", \"50\", \"51\", \"52\", \"53\", \"54\", \"55\", \"56\", \"57\"], \"mode\": \"markers\", \"name\": \"AUC_micro\", \"stepped\": false, \"type\": \"scatter\", \"data\": [0.8309665740769638, 0.841078618020661, 0.854842233388471, 0.8521581723416871, 0.8663899378920757, 0.7076246059735964, 0.8483193408445429, 0.8580880746543492, 0.8690115789145156, 0.8644861271495897, 0.38547486033519546, 0.8478199806497926, 0.8605848756281014, 0.8690115789145159, 0.8625823164071034, 0.8588371149464749, 0.8492868512218719, 0.8726007303142849, 0.8128335570050874, 0.8566524140944416, 0.8808713835398397, 0.8693860990605786, 0.8658593676851535, 0.8295621235292282, 0.8614587559689149, 0.8348678255984519, 0.7882088574014543, 0.7795636840298371, 0.8760650416653664, 0.858805904934303, 0.8653287974782311, 0.8464155301020568, 0.8490683811366686, 0.8561218438875192, 0.8483193408445429, 0.8343684654037016, 0.8605536656159296, 0.8491932211853562]}, {\"categories\": [\"0\", \"5\", \"13\", \"20\", \"23\", \"25\", \"26\", \"27\", \"28\", \"29\", \"30\", \"31\", \"32\", \"33\", \"34\", \"35\", \"36\", \"37\", \"38\", \"39\", \"40\", \"41\", \"42\", \"43\", \"44\", \"45\", \"46\", \"47\", \"48\", \"49\", \"50\", \"51\", \"52\", \"53\", \"54\", \"55\", \"56\", \"57\"], \"mode\": \"lines\", \"name\": \"AUC_micro_max\", \"stepped\": true, \"type\": \"scatter\", \"data\": [0.8309665740769638, 0.841078618020661, 0.854842233388471, 0.854842233388471, 0.8663899378920757, 0.8663899378920757, 0.8663899378920757, 0.8663899378920757, 0.8690115789145156, 0.8690115789145156, 0.8690115789145156, 0.8690115789145156, 0.8690115789145156, 0.8690115789145159, 0.8690115789145159, 0.8690115789145159, 0.8690115789145159, 0.8726007303142849, 0.8726007303142849, 0.8726007303142849, 0.8808713835398397, 0.8808713835398397, 0.8808713835398397, 0.8808713835398397, 0.8808713835398397, 0.8808713835398397, 0.8808713835398397, 0.8808713835398397, 0.8808713835398397, 0.8808713835398397, 0.8808713835398397, 0.8808713835398397, 0.8808713835398397, 0.8808713835398397, 0.8808713835398397, 0.8808713835398397, 0.8808713835398397, 0.8808713835398397]}], \"precision_score_macro\": [{\"categories\": [\"0\", \"5\", \"13\", \"20\", \"23\", \"25\", \"26\", \"27\", \"28\", \"29\", \"30\", \"31\", \"32\", \"33\", \"34\", \"35\", \"36\", \"37\", \"38\", \"39\", \"40\", \"41\", \"42\", \"43\", \"44\", \"45\", \"46\", \"47\", \"48\", \"49\", \"50\", \"51\", \"52\", \"53\", \"54\", \"55\", \"56\", \"57\"], \"mode\": \"markers\", \"name\": \"precision_score_macro\", \"stepped\": false, \"type\": \"scatter\", \"data\": [0.7939189189189189, 0.8236878693083072, 0.7584371754932502, 0.7644094081157922, 0.7992296918767507, 0.5839137645107795, 0.7892037786774628, 0.7827165459908823, 0.8337162990196079, 0.806638418079096, 0.19273743016759776, 0.7868310767246938, 0.7671575437621562, 0.8042247386759582, 0.7781882868089764, 0.7947170823277018, 0.7671575437621562, 0.8158879904162923, 0.7117031997984379, 0.7367143587123148, 0.8201766304347826, 0.8172183507549361, 0.806638418079096, 0.7229780801209373, 0.7687146892655368, 0.7958559782608696, 0.7671575437621562, 0.6987974683544305, 0.8012820512820513, 0.7659414340448822, 0.7836956521739131, 0.7898469578200821, 0.7868310767246938, 0.7652439024390244, 0.7920255626562934, 0.7947170823277018, 0.7671575437621562, 0.7547235343150875]}, {\"categories\": [\"0\", \"5\", \"13\", \"20\", \"23\", \"25\", \"26\", \"27\", \"28\", \"29\", \"30\", \"31\", \"32\", \"33\", \"34\", \"35\", \"36\", \"37\", \"38\", \"39\", \"40\", \"41\", \"42\", \"43\", \"44\", \"45\", \"46\", \"47\", \"48\", \"49\", \"50\", \"51\", \"52\", \"53\", \"54\", \"55\", \"56\", \"57\"], \"mode\": \"lines\", \"name\": \"precision_score_macro_max\", \"stepped\": true, \"type\": \"scatter\", \"data\": [0.7939189189189189, 0.8236878693083072, 0.8236878693083072, 0.8236878693083072, 0.8236878693083072, 0.8236878693083072, 0.8236878693083072, 0.8236878693083072, 0.8337162990196079, 0.8337162990196079, 0.8337162990196079, 0.8337162990196079, 0.8337162990196079, 0.8337162990196079, 0.8337162990196079, 0.8337162990196079, 0.8337162990196079, 0.8337162990196079, 0.8337162990196079, 0.8337162990196079, 0.8337162990196079, 0.8337162990196079, 0.8337162990196079, 0.8337162990196079, 0.8337162990196079, 0.8337162990196079, 0.8337162990196079, 0.8337162990196079, 0.8337162990196079, 0.8337162990196079, 0.8337162990196079, 0.8337162990196079, 0.8337162990196079, 0.8337162990196079, 0.8337162990196079, 0.8337162990196079, 0.8337162990196079, 0.8337162990196079]}], \"f1_score_weighted\": [{\"categories\": [\"0\", \"5\", \"13\", \"20\", \"23\", \"25\", \"26\", \"27\", \"28\", \"29\", \"30\", \"31\", \"32\", \"33\", \"34\", \"35\", \"36\", \"37\", \"38\", \"39\", \"40\", \"41\", \"42\", \"43\", \"44\", \"45\", \"46\", \"47\", \"48\", \"49\", \"50\", \"51\", \"52\", \"53\", \"54\", \"55\", \"56\", \"57\"], \"mode\": \"markers\", \"name\": \"f1_score_weighted\", \"stepped\": false, \"type\": \"scatter\", \"data\": [0.8041980351624838, 0.7794540067400991, 0.7718031289079169, 0.7776145805101664, 0.8014907413028273, 0.5988065226717311, 0.7976766208859931, 0.7923897643165123, 0.81458147504812, 0.8067653934904058, 0.21449810776716527, 0.765503231116793, 0.7735809226547244, 0.799756395808857, 0.7857027285761156, 0.8036119392183224, 0.7735809226547244, 0.8040392970735198, 0.7237859905457672, 0.750540616071695, 0.8254845680308779, 0.8111988874769223, 0.8067653934904058, 0.7348345509239363, 0.772665168812242, 0.8029664477767976, 0.7735809226547244, 0.7123947570874944, 0.808916808614549, 0.7744239248169638, 0.7917073876497575, 0.7398123269465863, 0.765503231116793, 0.7654289208046612, 0.796222830389252, 0.8036119392183224, 0.7735809226547244, 0.7622599687874607]}, {\"categories\": [\"0\", \"5\", \"13\", \"20\", \"23\", \"25\", \"26\", \"27\", \"28\", \"29\", \"30\", \"31\", \"32\", \"33\", \"34\", \"35\", \"36\", \"37\", \"38\", \"39\", \"40\", \"41\", \"42\", \"43\", \"44\", \"45\", \"46\", \"47\", \"48\", \"49\", \"50\", \"51\", \"52\", \"53\", \"54\", \"55\", \"56\", \"57\"], \"mode\": \"lines\", \"name\": \"f1_score_weighted_max\", \"stepped\": true, \"type\": \"scatter\", \"data\": [0.8041980351624838, 0.8041980351624838, 0.8041980351624838, 0.8041980351624838, 0.8041980351624838, 0.8041980351624838, 0.8041980351624838, 0.8041980351624838, 0.81458147504812, 0.81458147504812, 0.81458147504812, 0.81458147504812, 0.81458147504812, 0.81458147504812, 0.81458147504812, 0.81458147504812, 0.81458147504812, 0.81458147504812, 0.81458147504812, 0.81458147504812, 0.8254845680308779, 0.8254845680308779, 0.8254845680308779, 0.8254845680308779, 0.8254845680308779, 0.8254845680308779, 0.8254845680308779, 0.8254845680308779, 0.8254845680308779, 0.8254845680308779, 0.8254845680308779, 0.8254845680308779, 0.8254845680308779, 0.8254845680308779, 0.8254845680308779, 0.8254845680308779, 0.8254845680308779, 0.8254845680308779]}], \"average_precision_score_micro\": [{\"categories\": [\"0\", \"5\", \"13\", \"20\", \"23\", \"25\", \"26\", \"27\", \"28\", \"29\", \"30\", \"31\", \"32\", \"33\", \"34\", \"35\", \"36\", \"37\", \"38\", \"39\", \"40\", \"41\", \"42\", \"43\", \"44\", \"45\", \"46\", \"47\", \"48\", \"49\", \"50\", \"51\", \"52\", \"53\", \"54\", \"55\", \"56\", \"57\"], \"mode\": \"markers\", \"name\": \"average_precision_score_micro\", \"stepped\": false, \"type\": \"scatter\", \"data\": [0.8128828664881145, 0.8114605733641476, 0.8430295230295948, 0.8278712241145667, 0.849555233970385, 0.6802346239803463, 0.837372950671778, 0.8295331766972995, 0.8453806744641497, 0.8478041169759045, 0.4558534377828407, 0.8224274051118479, 0.8370264131017872, 0.8528191816415625, 0.846868574344001, 0.8335683540816945, 0.8317317847664139, 0.8562973024374407, 0.8067913313214734, 0.8486656499347505, 0.8603727377286414, 0.8544233028209146, 0.8460730759446483, 0.8137674876946688, 0.8537858548645672, 0.808434753533151, 0.7431595621794023, 0.7733124794639702, 0.8529215046499499, 0.8402443486971999, 0.8416683235451305, 0.8232028634864397, 0.8271905190578279, 0.826006676067762, 0.8204029888418528, 0.8024398331652949, 0.8284397452050447, 0.8252121386533416]}, {\"categories\": [\"0\", \"5\", \"13\", \"20\", \"23\", \"25\", \"26\", \"27\", \"28\", \"29\", \"30\", \"31\", \"32\", \"33\", \"34\", \"35\", \"36\", \"37\", \"38\", \"39\", \"40\", \"41\", \"42\", \"43\", \"44\", \"45\", \"46\", \"47\", \"48\", \"49\", \"50\", \"51\", \"52\", \"53\", \"54\", \"55\", \"56\", \"57\"], \"mode\": \"lines\", \"name\": \"average_precision_score_micro_max\", \"stepped\": true, \"type\": \"scatter\", \"data\": [0.8128828664881145, 0.8128828664881145, 0.8430295230295948, 0.8430295230295948, 0.849555233970385, 0.849555233970385, 0.849555233970385, 0.849555233970385, 0.849555233970385, 0.849555233970385, 0.849555233970385, 0.849555233970385, 0.849555233970385, 0.8528191816415625, 0.8528191816415625, 0.8528191816415625, 0.8528191816415625, 0.8562973024374407, 0.8562973024374407, 0.8562973024374407, 0.8603727377286414, 0.8603727377286414, 0.8603727377286414, 0.8603727377286414, 0.8603727377286414, 0.8603727377286414, 0.8603727377286414, 0.8603727377286414, 0.8603727377286414, 0.8603727377286414, 0.8603727377286414, 0.8603727377286414, 0.8603727377286414, 0.8603727377286414, 0.8603727377286414, 0.8603727377286414, 0.8603727377286414, 0.8603727377286414]}], \"AUC_weighted\": [{\"categories\": [\"0\", \"5\", \"13\", \"20\", \"23\", \"25\", \"26\", \"27\", \"28\", \"29\", \"30\", \"31\", \"32\", \"33\", \"34\", \"35\", \"36\", \"37\", \"38\", \"39\", \"40\", \"41\", \"42\", \"43\", \"44\", \"45\", \"46\", \"47\", \"48\", \"49\", \"50\", \"51\", \"52\", \"53\", \"54\", \"55\", \"56\", \"57\"], \"mode\": \"markers\", \"name\": \"AUC_weighted\", \"stepped\": false, \"type\": \"scatter\", \"data\": [0.8065217391304348, 0.8406455862977602, 0.8470355731225298, 0.8434123847167325, 0.8508563899868248, 0.6851119894598157, 0.8266139657444004, 0.8459815546772068, 0.841699604743083, 0.8447957839262187, 0.5, 0.8164690382081687, 0.8337944664031621, 0.8422924901185772, 0.8347167325428195, 0.8426877470355731, 0.8228590250329381, 0.8511198945981554, 0.8070487483530963, 0.8484848484848485, 0.8612648221343872, 0.852437417654809, 0.849802371541502, 0.8215415019762846, 0.83866930171278, 0.8086956521739131, 0.8059288537549407, 0.7734519104084322, 0.8560606060606062, 0.8383399209486166, 0.8498023715415021, 0.816600790513834, 0.8223978919631094, 0.838274044795784, 0.8222661396574441, 0.8160737812911725, 0.836627140974967, 0.821475625823452]}, {\"categories\": [\"0\", \"5\", \"13\", \"20\", \"23\", \"25\", \"26\", \"27\", \"28\", \"29\", \"30\", \"31\", \"32\", \"33\", \"34\", \"35\", \"36\", \"37\", \"38\", \"39\", \"40\", \"41\", \"42\", \"43\", \"44\", \"45\", \"46\", \"47\", \"48\", \"49\", \"50\", \"51\", \"52\", \"53\", \"54\", \"55\", \"56\", \"57\"], \"mode\": \"lines\", \"name\": \"AUC_weighted_max\", \"stepped\": true, \"type\": \"scatter\", \"data\": [0.8065217391304348, 0.8406455862977602, 0.8470355731225298, 0.8470355731225298, 0.8508563899868248, 0.8508563899868248, 0.8508563899868248, 0.8508563899868248, 0.8508563899868248, 0.8508563899868248, 0.8508563899868248, 0.8508563899868248, 0.8508563899868248, 0.8508563899868248, 0.8508563899868248, 0.8508563899868248, 0.8508563899868248, 0.8511198945981554, 0.8511198945981554, 0.8511198945981554, 0.8612648221343872, 0.8612648221343872, 0.8612648221343872, 0.8612648221343872, 0.8612648221343872, 0.8612648221343872, 0.8612648221343872, 0.8612648221343872, 0.8612648221343872, 0.8612648221343872, 0.8612648221343872, 0.8612648221343872, 0.8612648221343872, 0.8612648221343872, 0.8612648221343872, 0.8612648221343872, 0.8612648221343872, 0.8612648221343872]}], \"precision_score_weighted\": [{\"categories\": [\"0\", \"5\", \"13\", \"20\", \"23\", \"25\", \"26\", \"27\", \"28\", \"29\", \"30\", \"31\", \"32\", \"33\", \"34\", \"35\", \"36\", \"37\", \"38\", \"39\", \"40\", \"41\", \"42\", \"43\", \"44\", \"45\", \"46\", \"47\", \"48\", \"49\", \"50\", \"51\", \"52\", \"53\", \"54\", \"55\", \"56\", \"57\"], \"mode\": \"markers\", \"name\": \"precision_score_weighted\", \"stepped\": false, \"type\": \"scatter\", \"data\": [0.8039785595651517, 0.8105714169205585, 0.7730947284150437, 0.7794761685421002, 0.802870757241444, 0.6005892326079102, 0.7973024525215057, 0.7919455093776545, 0.8270672444955636, 0.8089353912192658, 0.1485908679504385, 0.7818653670906137, 0.7739036759124586, 0.8043743795378896, 0.7855537514562749, 0.8032243131368064, 0.7739036759124586, 0.8126124136454062, 0.7333299551974732, 0.7547680151183405, 0.825513875394705, 0.8162539985336006, 0.8089353912192658, 0.7443595687809574, 0.7739718461004325, 0.8027803922759291, 0.7739036759124586, 0.7196874337034156, 0.8086234063887696, 0.7741374723651743, 0.7914136507165412, 0.7778771783851641, 0.7818653670906137, 0.7687355225507564, 0.7969578762567505, 0.8032243131368064, 0.7739036759124586, 0.7623765757403126]}, {\"categories\": [\"0\", \"5\", \"13\", \"20\", \"23\", \"25\", \"26\", \"27\", \"28\", \"29\", \"30\", \"31\", \"32\", \"33\", \"34\", \"35\", \"36\", \"37\", \"38\", \"39\", \"40\", \"41\", \"42\", \"43\", \"44\", \"45\", \"46\", \"47\", \"48\", \"49\", \"50\", \"51\", \"52\", \"53\", \"54\", \"55\", \"56\", \"57\"], \"mode\": \"lines\", \"name\": \"precision_score_weighted_max\", \"stepped\": true, \"type\": \"scatter\", \"data\": [0.8039785595651517, 0.8105714169205585, 0.8105714169205585, 0.8105714169205585, 0.8105714169205585, 0.8105714169205585, 0.8105714169205585, 0.8105714169205585, 0.8270672444955636, 0.8270672444955636, 0.8270672444955636, 0.8270672444955636, 0.8270672444955636, 0.8270672444955636, 0.8270672444955636, 0.8270672444955636, 0.8270672444955636, 0.8270672444955636, 0.8270672444955636, 0.8270672444955636, 0.8270672444955636, 0.8270672444955636, 0.8270672444955636, 0.8270672444955636, 0.8270672444955636, 0.8270672444955636, 0.8270672444955636, 0.8270672444955636, 0.8270672444955636, 0.8270672444955636, 0.8270672444955636, 0.8270672444955636, 0.8270672444955636, 0.8270672444955636, 0.8270672444955636, 0.8270672444955636, 0.8270672444955636, 0.8270672444955636]}], \"log_loss\": [{\"categories\": [\"0\", \"5\", \"13\", \"20\", \"23\", \"25\", \"26\", \"27\", \"28\", \"29\", \"30\", \"31\", \"32\", \"33\", \"34\", \"35\", \"36\", \"37\", \"38\", \"39\", \"40\", \"41\", \"42\", \"43\", \"44\", \"45\", \"46\", \"47\", \"48\", \"49\", \"50\", \"51\", \"52\", \"53\", \"54\", \"55\", \"56\", \"57\"], \"mode\": \"markers\", \"name\": \"log_loss\", \"stepped\": false, \"type\": \"scatter\", \"data\": [0.5826432686210934, 0.541245286010386, 0.6557179650500061, 0.672599435801244, 0.45914355883753366, 0.6337976430398199, 0.5683805696772378, 0.7289401356728001, 0.4513229968337791, 0.4805041263662325, 0.7435756614165786, 0.48375824683715374, 0.47935827481385573, 0.6833310453065126, 0.4704711837914965, 0.5344221800295611, 0.48357562483470923, 0.5490835603806595, 0.5390009165691724, 0.4802335041095427, 0.4445480731042515, 0.4639406735989953, 0.4604983397189033, 0.6199521816772479, 0.575560284354756, 0.5468051862980473, 0.5275134951149854, 0.6185414024222127, 0.4659270447078374, 0.6741930519596278, 0.5266696392937604, 0.6896070852547459, 0.6582888785644562, 0.5901692729478887, 0.5096386873321166, 0.8726322609727323, 0.46562327477123494, 0.48892695844586426]}, {\"categories\": [\"0\", \"5\", \"13\", \"20\", \"23\", \"25\", \"26\", \"27\", \"28\", \"29\", \"30\", \"31\", \"32\", \"33\", \"34\", \"35\", \"36\", \"37\", \"38\", \"39\", \"40\", \"41\", \"42\", \"43\", \"44\", \"45\", \"46\", \"47\", \"48\", \"49\", \"50\", \"51\", \"52\", \"53\", \"54\", \"55\", \"56\", \"57\"], \"mode\": \"lines\", \"name\": \"log_loss_min\", \"stepped\": true, \"type\": \"scatter\", \"data\": [0.5826432686210934, 0.541245286010386, 0.541245286010386, 0.541245286010386, 0.45914355883753366, 0.45914355883753366, 0.45914355883753366, 0.45914355883753366, 0.4513229968337791, 0.4513229968337791, 0.4513229968337791, 0.4513229968337791, 0.4513229968337791, 0.4513229968337791, 0.4513229968337791, 0.4513229968337791, 0.4513229968337791, 0.4513229968337791, 0.4513229968337791, 0.4513229968337791, 0.4445480731042515, 0.4445480731042515, 0.4445480731042515, 0.4445480731042515, 0.4445480731042515, 0.4445480731042515, 0.4445480731042515, 0.4445480731042515, 0.4445480731042515, 0.4445480731042515, 0.4445480731042515, 0.4445480731042515, 0.4445480731042515, 0.4445480731042515, 0.4445480731042515, 0.4445480731042515, 0.4445480731042515, 0.4445480731042515]}], \"accuracy\": [{\"categories\": [\"0\", \"5\", \"13\", \"20\", \"23\", \"25\", \"26\", \"27\", \"28\", \"29\", \"30\", \"31\", \"32\", \"33\", \"34\", \"35\", \"36\", \"37\", \"38\", \"39\", \"40\", \"41\", \"42\", \"43\", \"44\", \"45\", \"46\", \"47\", \"48\", \"49\", \"50\", \"51\", \"52\", \"53\", \"54\", \"55\", \"56\", \"57\"], \"mode\": \"markers\", \"name\": \"accuracy\", \"stepped\": false, \"type\": \"scatter\", \"data\": [0.8044692737430168, 0.7932960893854749, 0.770949720670391, 0.776536312849162, 0.8044692737430168, 0.6201117318435754, 0.7988826815642458, 0.7932960893854749, 0.8212290502793296, 0.8100558659217877, 0.3854748603351955, 0.776536312849162, 0.776536312849162, 0.8044692737430168, 0.7877094972067039, 0.8044692737430168, 0.776536312849162, 0.8100558659217877, 0.7206703910614525, 0.7486033519553073, 0.8268156424581006, 0.8156424581005587, 0.8100558659217877, 0.7318435754189944, 0.776536312849162, 0.8044692737430168, 0.776536312849162, 0.7094972067039106, 0.8100558659217877, 0.776536312849162, 0.7932960893854749, 0.7597765363128491, 0.776536312849162, 0.770949720670391, 0.7988826815642458, 0.8044692737430168, 0.776536312849162, 0.7653631284916201]}, {\"categories\": [\"0\", \"5\", \"13\", \"20\", \"23\", \"25\", \"26\", \"27\", \"28\", \"29\", \"30\", \"31\", \"32\", \"33\", \"34\", \"35\", \"36\", \"37\", \"38\", \"39\", \"40\", \"41\", \"42\", \"43\", \"44\", \"45\", \"46\", \"47\", \"48\", \"49\", \"50\", \"51\", \"52\", \"53\", \"54\", \"55\", \"56\", \"57\"], \"mode\": \"lines\", \"name\": \"accuracy_max\", \"stepped\": true, \"type\": \"scatter\", \"data\": [0.8044692737430168, 0.8044692737430168, 0.8044692737430168, 0.8044692737430168, 0.8044692737430168, 0.8044692737430168, 0.8044692737430168, 0.8044692737430168, 0.8212290502793296, 0.8212290502793296, 0.8212290502793296, 0.8212290502793296, 0.8212290502793296, 0.8212290502793296, 0.8212290502793296, 0.8212290502793296, 0.8212290502793296, 0.8212290502793296, 0.8212290502793296, 0.8212290502793296, 0.8268156424581006, 0.8268156424581006, 0.8268156424581006, 0.8268156424581006, 0.8268156424581006, 0.8268156424581006, 0.8268156424581006, 0.8268156424581006, 0.8268156424581006, 0.8268156424581006, 0.8268156424581006, 0.8268156424581006, 0.8268156424581006, 0.8268156424581006, 0.8268156424581006, 0.8268156424581006, 0.8268156424581006, 0.8268156424581006]}], \"average_precision_score_macro\": [{\"categories\": [\"0\", \"5\", \"13\", \"20\", \"23\", \"25\", \"26\", \"27\", \"28\", \"29\", \"30\", \"31\", \"32\", \"33\", \"34\", \"35\", \"36\", \"37\", \"38\", \"39\", \"40\", \"41\", \"42\", \"43\", \"44\", \"45\", \"46\", \"47\", \"48\", \"49\", \"50\", \"51\", \"52\", \"53\", \"54\", \"55\", \"56\", \"57\"], \"mode\": \"markers\", \"name\": \"average_precision_score_macro\", \"stepped\": false, \"type\": \"scatter\", \"data\": [0.8059031106710441, 0.825843661235859, 0.8394806257619373, 0.8181609715678972, 0.8338211808241418, 0.6461038706593178, 0.8234068045631486, 0.8272273124805152, 0.8255197028620247, 0.8367515793569216, 0.5, 0.8007036040508888, 0.8086496496197729, 0.8336493149510379, 0.8292286948995964, 0.8332241562177574, 0.7914282538903217, 0.8394207350508214, 0.80183575881063, 0.8451859816522631, 0.8479074450665639, 0.8435040319502628, 0.8364072682932906, 0.8043900518385054, 0.8320679278274807, 0.8037516875136206, 0.7552033307765853, 0.7612885590536211, 0.846257932862066, 0.8312042689506107, 0.8368056571464619, 0.7947272845451603, 0.8009243909486745, 0.8252569857841758, 0.8138823037301679, 0.8058066956650947, 0.8073590337849348, 0.8134580656775354]}, {\"categories\": [\"0\", \"5\", \"13\", \"20\", \"23\", \"25\", \"26\", \"27\", \"28\", \"29\", \"30\", \"31\", \"32\", \"33\", \"34\", \"35\", \"36\", \"37\", \"38\", \"39\", \"40\", \"41\", \"42\", \"43\", \"44\", \"45\", \"46\", \"47\", \"48\", \"49\", \"50\", \"51\", \"52\", \"53\", \"54\", \"55\", \"56\", \"57\"], \"mode\": \"lines\", \"name\": \"average_precision_score_macro_max\", \"stepped\": true, \"type\": \"scatter\", \"data\": [0.8059031106710441, 0.825843661235859, 0.8394806257619373, 0.8394806257619373, 0.8394806257619373, 0.8394806257619373, 0.8394806257619373, 0.8394806257619373, 0.8394806257619373, 0.8394806257619373, 0.8394806257619373, 0.8394806257619373, 0.8394806257619373, 0.8394806257619373, 0.8394806257619373, 0.8394806257619373, 0.8394806257619373, 0.8394806257619373, 0.8394806257619373, 0.8451859816522631, 0.8479074450665639, 0.8479074450665639, 0.8479074450665639, 0.8479074450665639, 0.8479074450665639, 0.8479074450665639, 0.8479074450665639, 0.8479074450665639, 0.8479074450665639, 0.8479074450665639, 0.8479074450665639, 0.8479074450665639, 0.8479074450665639, 0.8479074450665639, 0.8479074450665639, 0.8479074450665639, 0.8479074450665639, 0.8479074450665639]}], \"AUC_macro\": [{\"categories\": [\"0\", \"5\", \"13\", \"20\", \"23\", \"25\", \"26\", \"27\", \"28\", \"29\", \"30\", \"31\", \"32\", \"33\", \"34\", \"35\", \"36\", \"37\", \"38\", \"39\", \"40\", \"41\", \"42\", \"43\", \"44\", \"45\", \"46\", \"47\", \"48\", \"49\", \"50\", \"51\", \"52\", \"53\", \"54\", \"55\", \"56\", \"57\"], \"mode\": \"markers\", \"name\": \"AUC_macro\", \"stepped\": false, \"type\": \"scatter\", \"data\": [0.8065217391304347, 0.8406455862977602, 0.8470355731225296, 0.8434123847167325, 0.8508563899868247, 0.6851119894598157, 0.8266139657444005, 0.8459815546772069, 0.8416996047430829, 0.8447957839262188, 0.5, 0.8164690382081687, 0.833794466403162, 0.8422924901185771, 0.8347167325428195, 0.8426877470355731, 0.8228590250329381, 0.8511198945981555, 0.8070487483530961, 0.8484848484848484, 0.8612648221343873, 0.8524374176548091, 0.849802371541502, 0.8215415019762846, 0.83866930171278, 0.808695652173913, 0.8059288537549407, 0.7734519104084321, 0.8560606060606061, 0.8383399209486166, 0.8498023715415022, 0.8166007905138339, 0.8223978919631094, 0.838274044795784, 0.822266139657444, 0.8160737812911726, 0.836627140974967, 0.821475625823452]}, {\"categories\": [\"0\", \"5\", \"13\", \"20\", \"23\", \"25\", \"26\", \"27\", \"28\", \"29\", \"30\", \"31\", \"32\", \"33\", \"34\", \"35\", \"36\", \"37\", \"38\", \"39\", \"40\", \"41\", \"42\", \"43\", \"44\", \"45\", \"46\", \"47\", \"48\", \"49\", \"50\", \"51\", \"52\", \"53\", \"54\", \"55\", \"56\", \"57\"], \"mode\": \"lines\", \"name\": \"AUC_macro_max\", \"stepped\": true, \"type\": \"scatter\", \"data\": [0.8065217391304347, 0.8406455862977602, 0.8470355731225296, 0.8470355731225296, 0.8508563899868247, 0.8508563899868247, 0.8508563899868247, 0.8508563899868247, 0.8508563899868247, 0.8508563899868247, 0.8508563899868247, 0.8508563899868247, 0.8508563899868247, 0.8508563899868247, 0.8508563899868247, 0.8508563899868247, 0.8508563899868247, 0.8511198945981555, 0.8511198945981555, 0.8511198945981555, 0.8612648221343873, 0.8612648221343873, 0.8612648221343873, 0.8612648221343873, 0.8612648221343873, 0.8612648221343873, 0.8612648221343873, 0.8612648221343873, 0.8612648221343873, 0.8612648221343873, 0.8612648221343873, 0.8612648221343873, 0.8612648221343873, 0.8612648221343873, 0.8612648221343873, 0.8612648221343873, 0.8612648221343873, 0.8612648221343873]}], \"balanced_accuracy\": [{\"categories\": [\"0\", \"5\", \"13\", \"20\", \"23\", \"25\", \"26\", \"27\", \"28\", \"29\", \"30\", \"31\", \"32\", \"33\", \"34\", \"35\", \"36\", \"37\", \"38\", \"39\", \"40\", \"41\", \"42\", \"43\", \"44\", \"45\", \"46\", \"47\", \"48\", \"49\", \"50\", \"51\", \"52\", \"53\", \"54\", \"55\", \"56\", \"57\"], \"mode\": \"markers\", \"name\": \"balanced_accuracy\", \"stepped\": false, \"type\": \"scatter\", \"data\": [0.792292490118577, 0.7453886693017129, 0.7623188405797101, 0.7695652173913043, 0.7814888010540184, 0.5666666666666667, 0.7823451910408432, 0.7777997364953887, 0.787022397891963, 0.786034255599473, 0.5, 0.7344532279314888, 0.7533596837944664, 0.7760869565217392, 0.7678524374176547, 0.7895915678524374, 0.7533596837944664, 0.777931488801054, 0.7214097496706192, 0.744137022397892, 0.8104743083003952, 0.7878787878787878, 0.786034255599473, 0.733201581027668, 0.7506587615283267, 0.7868906455862978, 0.7533596837944664, 0.7069169960474309, 0.794137022397892, 0.7560606060606061, 0.775098814229249, 0.7046113306982872, 0.7344532279314888, 0.7407114624505928, 0.7769433465085639, 0.7895915678524374, 0.7533596837944664, 0.7415678524374176]}, {\"categories\": [\"0\", \"5\", \"13\", \"20\", \"23\", \"25\", \"26\", \"27\", \"28\", \"29\", \"30\", \"31\", \"32\", \"33\", \"34\", \"35\", \"36\", \"37\", \"38\", \"39\", \"40\", \"41\", \"42\", \"43\", \"44\", \"45\", \"46\", \"47\", \"48\", \"49\", \"50\", \"51\", \"52\", \"53\", \"54\", \"55\", \"56\", \"57\"], \"mode\": \"lines\", \"name\": \"balanced_accuracy_max\", \"stepped\": true, \"type\": \"scatter\", \"data\": [0.792292490118577, 0.792292490118577, 0.792292490118577, 0.792292490118577, 0.792292490118577, 0.792292490118577, 0.792292490118577, 0.792292490118577, 0.792292490118577, 0.792292490118577, 0.792292490118577, 0.792292490118577, 0.792292490118577, 0.792292490118577, 0.792292490118577, 0.792292490118577, 0.792292490118577, 0.792292490118577, 0.792292490118577, 0.792292490118577, 0.8104743083003952, 0.8104743083003952, 0.8104743083003952, 0.8104743083003952, 0.8104743083003952, 0.8104743083003952, 0.8104743083003952, 0.8104743083003952, 0.8104743083003952, 0.8104743083003952, 0.8104743083003952, 0.8104743083003952, 0.8104743083003952, 0.8104743083003952, 0.8104743083003952, 0.8104743083003952, 0.8104743083003952, 0.8104743083003952]}], \"weighted_accuracy\": [{\"categories\": [\"0\", \"5\", \"13\", \"20\", \"23\", \"25\", \"26\", \"27\", \"28\", \"29\", \"30\", \"31\", \"32\", \"33\", \"34\", \"35\", \"36\", \"37\", \"38\", \"39\", \"40\", \"41\", \"42\", \"43\", \"44\", \"45\", \"46\", \"47\", \"48\", \"49\", \"50\", \"51\", \"52\", \"53\", \"54\", \"55\", \"56\", \"57\"], \"mode\": \"markers\", \"name\": \"weighted_accuracy\", \"stepped\": false, \"type\": \"scatter\", \"data\": [0.8154320621552696, 0.836427258169741, 0.7787201233616038, 0.782812407330526, 0.825158650139375, 0.6682284562006997, 0.8137714251823734, 0.8072474942174247, 0.8520253840222999, 0.8316825811043237, 0.28236759385564314, 0.8144238182788684, 0.7974022893066841, 0.8300219441314275, 0.8055868572445288, 0.8178637091512958, 0.7974022893066841, 0.8389775220924025, 0.7200047446770653, 0.7526243995018089, 0.8415277860150643, 0.8406381590652985, 0.8316825811043237, 0.7306209596109364, 0.7998339363027105, 0.8202953561473222, 0.7974022893066841, 0.7118201767392207, 0.8243876401162445, 0.7949706423106577, 0.8096791412134511, 0.8094419073601803, 0.8144238182788684, 0.7981732993298143, 0.8186347191744262, 0.8178637091512958, 0.7974022893066841, 0.786786074372813]}, {\"categories\": [\"0\", \"5\", \"13\", \"20\", \"23\", \"25\", \"26\", \"27\", \"28\", \"29\", \"30\", \"31\", \"32\", \"33\", \"34\", \"35\", \"36\", \"37\", \"38\", \"39\", \"40\", \"41\", \"42\", \"43\", \"44\", \"45\", \"46\", \"47\", \"48\", \"49\", \"50\", \"51\", \"52\", \"53\", \"54\", \"55\", \"56\", \"57\"], \"mode\": \"lines\", \"name\": \"weighted_accuracy_max\", \"stepped\": true, \"type\": \"scatter\", \"data\": [0.8154320621552696, 0.836427258169741, 0.836427258169741, 0.836427258169741, 0.836427258169741, 0.836427258169741, 0.836427258169741, 0.836427258169741, 0.8520253840222999, 0.8520253840222999, 0.8520253840222999, 0.8520253840222999, 0.8520253840222999, 0.8520253840222999, 0.8520253840222999, 0.8520253840222999, 0.8520253840222999, 0.8520253840222999, 0.8520253840222999, 0.8520253840222999, 0.8520253840222999, 0.8520253840222999, 0.8520253840222999, 0.8520253840222999, 0.8520253840222999, 0.8520253840222999, 0.8520253840222999, 0.8520253840222999, 0.8520253840222999, 0.8520253840222999, 0.8520253840222999, 0.8520253840222999, 0.8520253840222999, 0.8520253840222999, 0.8520253840222999, 0.8520253840222999, 0.8520253840222999, 0.8520253840222999]}], \"recall_score_micro\": [{\"categories\": [\"0\", \"5\", \"13\", \"20\", \"23\", \"25\", \"26\", \"27\", \"28\", \"29\", \"30\", \"31\", \"32\", \"33\", \"34\", \"35\", \"36\", \"37\", \"38\", \"39\", \"40\", \"41\", \"42\", \"43\", \"44\", \"45\", \"46\", \"47\", \"48\", \"49\", \"50\", \"51\", \"52\", \"53\", \"54\", \"55\", \"56\", \"57\"], \"mode\": \"markers\", \"name\": \"recall_score_micro\", \"stepped\": false, \"type\": \"scatter\", \"data\": [0.8044692737430168, 0.7932960893854749, 0.770949720670391, 0.776536312849162, 0.8044692737430168, 0.6201117318435754, 0.7988826815642458, 0.7932960893854749, 0.8212290502793296, 0.8100558659217877, 0.3854748603351955, 0.776536312849162, 0.776536312849162, 0.8044692737430168, 0.7877094972067039, 0.8044692737430168, 0.776536312849162, 0.8100558659217877, 0.7206703910614525, 0.7486033519553073, 0.8268156424581006, 0.8156424581005587, 0.8100558659217877, 0.7318435754189944, 0.776536312849162, 0.8044692737430168, 0.776536312849162, 0.7094972067039106, 0.8100558659217877, 0.776536312849162, 0.7932960893854749, 0.7597765363128491, 0.776536312849162, 0.770949720670391, 0.7988826815642458, 0.8044692737430168, 0.776536312849162, 0.7653631284916201]}, {\"categories\": [\"0\", \"5\", \"13\", \"20\", \"23\", \"25\", \"26\", \"27\", \"28\", \"29\", \"30\", \"31\", \"32\", \"33\", \"34\", \"35\", \"36\", \"37\", \"38\", \"39\", \"40\", \"41\", \"42\", \"43\", \"44\", \"45\", \"46\", \"47\", \"48\", \"49\", \"50\", \"51\", \"52\", \"53\", \"54\", \"55\", \"56\", \"57\"], \"mode\": \"lines\", \"name\": \"recall_score_micro_max\", \"stepped\": true, \"type\": \"scatter\", \"data\": [0.8044692737430168, 0.8044692737430168, 0.8044692737430168, 0.8044692737430168, 0.8044692737430168, 0.8044692737430168, 0.8044692737430168, 0.8044692737430168, 0.8212290502793296, 0.8212290502793296, 0.8212290502793296, 0.8212290502793296, 0.8212290502793296, 0.8212290502793296, 0.8212290502793296, 0.8212290502793296, 0.8212290502793296, 0.8212290502793296, 0.8212290502793296, 0.8212290502793296, 0.8268156424581006, 0.8268156424581006, 0.8268156424581006, 0.8268156424581006, 0.8268156424581006, 0.8268156424581006, 0.8268156424581006, 0.8268156424581006, 0.8268156424581006, 0.8268156424581006, 0.8268156424581006, 0.8268156424581006, 0.8268156424581006, 0.8268156424581006, 0.8268156424581006, 0.8268156424581006, 0.8268156424581006, 0.8268156424581006]}], \"average_precision_score_weighted\": [{\"categories\": [\"0\", \"5\", \"13\", \"20\", \"23\", \"25\", \"26\", \"27\", \"28\", \"29\", \"30\", \"31\", \"32\", \"33\", \"34\", \"35\", \"36\", \"37\", \"38\", \"39\", \"40\", \"41\", \"42\", \"43\", \"44\", \"45\", \"46\", \"47\", \"48\", \"49\", \"50\", \"51\", \"52\", \"53\", \"54\", \"55\", \"56\", \"57\"], \"mode\": \"markers\", \"name\": \"average_precision_score_weighted\", \"stepped\": false, \"type\": \"scatter\", \"data\": [0.8093245267822848, 0.8298975040372034, 0.8497318883432318, 0.8284063695865436, 0.8447313578614873, 0.6701573474126866, 0.8273419968744685, 0.8319260262512335, 0.8291862062771594, 0.838449403947078, 0.5262320152304859, 0.8085182930113772, 0.8171417868841853, 0.8385961782131987, 0.8294214434261299, 0.8344429140338571, 0.7955343487335559, 0.8422454456749819, 0.8107069431388564, 0.8544957754014675, 0.8471674683961532, 0.8493234780623821, 0.8474303117743133, 0.8108240179190389, 0.8376218305450159, 0.8057696438239306, 0.773189936894961, 0.777508327394123, 0.8480967544205248, 0.8343485919677858, 0.8390304082640201, 0.8034286437307784, 0.8110387604617884, 0.8289752628354641, 0.8159383911676719, 0.8078987910691733, 0.8135495980298578, 0.8153016175462784]}, {\"categories\": [\"0\", \"5\", \"13\", \"20\", \"23\", \"25\", \"26\", \"27\", \"28\", \"29\", \"30\", \"31\", \"32\", \"33\", \"34\", \"35\", \"36\", \"37\", \"38\", \"39\", \"40\", \"41\", \"42\", \"43\", \"44\", \"45\", \"46\", \"47\", \"48\", \"49\", \"50\", \"51\", \"52\", \"53\", \"54\", \"55\", \"56\", \"57\"], \"mode\": \"lines\", \"name\": \"average_precision_score_weighted_max\", \"stepped\": true, \"type\": \"scatter\", \"data\": [0.8093245267822848, 0.8298975040372034, 0.8497318883432318, 0.8497318883432318, 0.8497318883432318, 0.8497318883432318, 0.8497318883432318, 0.8497318883432318, 0.8497318883432318, 0.8497318883432318, 0.8497318883432318, 0.8497318883432318, 0.8497318883432318, 0.8497318883432318, 0.8497318883432318, 0.8497318883432318, 0.8497318883432318, 0.8497318883432318, 0.8497318883432318, 0.8544957754014675, 0.8544957754014675, 0.8544957754014675, 0.8544957754014675, 0.8544957754014675, 0.8544957754014675, 0.8544957754014675, 0.8544957754014675, 0.8544957754014675, 0.8544957754014675, 0.8544957754014675, 0.8544957754014675, 0.8544957754014675, 0.8544957754014675, 0.8544957754014675, 0.8544957754014675, 0.8544957754014675, 0.8544957754014675, 0.8544957754014675]}], \"recall_score_macro\": [{\"categories\": [\"0\", \"5\", \"13\", \"20\", \"23\", \"25\", \"26\", \"27\", \"28\", \"29\", \"30\", \"31\", \"32\", \"33\", \"34\", \"35\", \"36\", \"37\", \"38\", \"39\", \"40\", \"41\", \"42\", \"43\", \"44\", \"45\", \"46\", \"47\", \"48\", \"49\", \"50\", \"51\", \"52\", \"53\", \"54\", \"55\", \"56\", \"57\"], \"mode\": \"markers\", \"name\": \"recall_score_macro\", \"stepped\": false, \"type\": \"scatter\", \"data\": [0.792292490118577, 0.7453886693017129, 0.7623188405797101, 0.7695652173913043, 0.7814888010540184, 0.5666666666666667, 0.7823451910408432, 0.7777997364953887, 0.787022397891963, 0.786034255599473, 0.5, 0.7344532279314888, 0.7533596837944664, 0.7760869565217392, 0.7678524374176547, 0.7895915678524374, 0.7533596837944664, 0.777931488801054, 0.7214097496706192, 0.744137022397892, 0.8104743083003952, 0.7878787878787878, 0.786034255599473, 0.733201581027668, 0.7506587615283267, 0.7868906455862978, 0.7533596837944664, 0.7069169960474309, 0.794137022397892, 0.7560606060606061, 0.775098814229249, 0.7046113306982872, 0.7344532279314888, 0.7407114624505928, 0.7769433465085639, 0.7895915678524374, 0.7533596837944664, 0.7415678524374176]}, {\"categories\": [\"0\", \"5\", \"13\", \"20\", \"23\", \"25\", \"26\", \"27\", \"28\", \"29\", \"30\", \"31\", \"32\", \"33\", \"34\", \"35\", \"36\", \"37\", \"38\", \"39\", \"40\", \"41\", \"42\", \"43\", \"44\", \"45\", \"46\", \"47\", \"48\", \"49\", \"50\", \"51\", \"52\", \"53\", \"54\", \"55\", \"56\", \"57\"], \"mode\": \"lines\", \"name\": \"recall_score_macro_max\", \"stepped\": true, \"type\": \"scatter\", \"data\": [0.792292490118577, 0.792292490118577, 0.792292490118577, 0.792292490118577, 0.792292490118577, 0.792292490118577, 0.792292490118577, 0.792292490118577, 0.792292490118577, 0.792292490118577, 0.792292490118577, 0.792292490118577, 0.792292490118577, 0.792292490118577, 0.792292490118577, 0.792292490118577, 0.792292490118577, 0.792292490118577, 0.792292490118577, 0.792292490118577, 0.8104743083003952, 0.8104743083003952, 0.8104743083003952, 0.8104743083003952, 0.8104743083003952, 0.8104743083003952, 0.8104743083003952, 0.8104743083003952, 0.8104743083003952, 0.8104743083003952, 0.8104743083003952, 0.8104743083003952, 0.8104743083003952, 0.8104743083003952, 0.8104743083003952, 0.8104743083003952, 0.8104743083003952, 0.8104743083003952]}], \"matthews_correlation\": [{\"categories\": [\"0\", \"5\", \"13\", \"20\", \"23\", \"25\", \"26\", \"27\", \"28\", \"29\", \"30\", \"31\", \"32\", \"33\", \"34\", \"35\", \"36\", \"37\", \"38\", \"39\", \"40\", \"41\", \"42\", \"43\", \"44\", \"45\", \"46\", \"47\", \"48\", \"49\", \"50\", \"51\", \"52\", \"53\", \"54\", \"55\", \"56\", \"57\"], \"mode\": \"markers\", \"name\": \"matthews_correlation\", \"stepped\": false, \"type\": \"scatter\", \"data\": [0.5862091527902681, 0.5636642103900947, 0.5207415490935383, 0.5339497338852774, 0.5804474384684626, 0.14958945106370697, 0.5715078167109248, 0.5604947171174891, 0.6189799749918868, 0.5923144153351468, 0.0, 0.5186462062299076, 0.5203343187255141, 0.5796291303917246, 0.5459428932876624, 0.5842861694210296, 0.5203343187255141, 0.5926051618768544, 0.43300416844109585, 0.4807940877126133, 0.6305763010712991, 0.6043854210956422, 0.5923144153351468, 0.45606508666512324, 0.5190595003109705, 0.5826776556684718, 0.5203343187255141, 0.4056332085701708, 0.595376201963201, 0.5219085160376644, 0.5587283329670581, 0.4870563488485386, 0.5186462062299076, 0.5053602582799718, 0.5687689744987158, 0.5842861694210296, 0.5203343187255141, 0.49611699083891314]}, {\"categories\": [\"0\", \"5\", \"13\", \"20\", \"23\", \"25\", \"26\", \"27\", \"28\", \"29\", \"30\", \"31\", \"32\", \"33\", \"34\", \"35\", \"36\", \"37\", \"38\", \"39\", \"40\", \"41\", \"42\", \"43\", \"44\", \"45\", \"46\", \"47\", \"48\", \"49\", \"50\", \"51\", \"52\", \"53\", \"54\", \"55\", \"56\", \"57\"], \"mode\": \"lines\", \"name\": \"matthews_correlation_max\", \"stepped\": true, \"type\": \"scatter\", \"data\": [0.5862091527902681, 0.5862091527902681, 0.5862091527902681, 0.5862091527902681, 0.5862091527902681, 0.5862091527902681, 0.5862091527902681, 0.5862091527902681, 0.6189799749918868, 0.6189799749918868, 0.6189799749918868, 0.6189799749918868, 0.6189799749918868, 0.6189799749918868, 0.6189799749918868, 0.6189799749918868, 0.6189799749918868, 0.6189799749918868, 0.6189799749918868, 0.6189799749918868, 0.6305763010712991, 0.6305763010712991, 0.6305763010712991, 0.6305763010712991, 0.6305763010712991, 0.6305763010712991, 0.6305763010712991, 0.6305763010712991, 0.6305763010712991, 0.6305763010712991, 0.6305763010712991, 0.6305763010712991, 0.6305763010712991, 0.6305763010712991, 0.6305763010712991, 0.6305763010712991, 0.6305763010712991, 0.6305763010712991]}], \"norm_macro_recall\": [{\"categories\": [\"0\", \"5\", \"13\", \"20\", \"23\", \"25\", \"26\", \"27\", \"28\", \"29\", \"30\", \"31\", \"32\", \"33\", \"34\", \"35\", \"36\", \"37\", \"38\", \"39\", \"40\", \"41\", \"42\", \"43\", \"44\", \"45\", \"46\", \"47\", \"48\", \"49\", \"50\", \"51\", \"52\", \"53\", \"54\", \"55\", \"56\", \"57\"], \"mode\": \"markers\", \"name\": \"norm_macro_recall\", \"stepped\": false, \"type\": \"scatter\", \"data\": [0.5845849802371541, 0.49077733860342576, 0.5246376811594202, 0.5391304347826087, 0.5629776021080368, 0.1333333333333333, 0.5646903820816864, 0.5555994729907774, 0.5740447957839261, 0.5720685111989461, 0.0, 0.46890645586297763, 0.5067193675889328, 0.5521739130434784, 0.5357048748353095, 0.5791831357048749, 0.5067193675889328, 0.555862977602108, 0.44281949934123843, 0.48827404479578407, 0.6209486166007905, 0.5757575757575757, 0.5720685111989461, 0.46640316205533594, 0.5013175230566533, 0.5737812911725957, 0.5067193675889328, 0.4138339920948617, 0.5882740447957839, 0.5121212121212122, 0.550197628458498, 0.40922266139657437, 0.46890645586297763, 0.48142292490118566, 0.5538866930171278, 0.5791831357048749, 0.5067193675889328, 0.48313570487483526]}, {\"categories\": [\"0\", \"5\", \"13\", \"20\", \"23\", \"25\", \"26\", \"27\", \"28\", \"29\", \"30\", \"31\", \"32\", \"33\", \"34\", \"35\", \"36\", \"37\", \"38\", \"39\", \"40\", \"41\", \"42\", \"43\", \"44\", \"45\", \"46\", \"47\", \"48\", \"49\", \"50\", \"51\", \"52\", \"53\", \"54\", \"55\", \"56\", \"57\"], \"mode\": \"lines\", \"name\": \"norm_macro_recall_max\", \"stepped\": true, \"type\": \"scatter\", \"data\": [0.5845849802371541, 0.5845849802371541, 0.5845849802371541, 0.5845849802371541, 0.5845849802371541, 0.5845849802371541, 0.5845849802371541, 0.5845849802371541, 0.5845849802371541, 0.5845849802371541, 0.5845849802371541, 0.5845849802371541, 0.5845849802371541, 0.5845849802371541, 0.5845849802371541, 0.5845849802371541, 0.5845849802371541, 0.5845849802371541, 0.5845849802371541, 0.5845849802371541, 0.6209486166007905, 0.6209486166007905, 0.6209486166007905, 0.6209486166007905, 0.6209486166007905, 0.6209486166007905, 0.6209486166007905, 0.6209486166007905, 0.6209486166007905, 0.6209486166007905, 0.6209486166007905, 0.6209486166007905, 0.6209486166007905, 0.6209486166007905, 0.6209486166007905, 0.6209486166007905, 0.6209486166007905, 0.6209486166007905]}], \"recall_score_weighted\": [{\"categories\": [\"0\", \"5\", \"13\", \"20\", \"23\", \"25\", \"26\", \"27\", \"28\", \"29\", \"30\", \"31\", \"32\", \"33\", \"34\", \"35\", \"36\", \"37\", \"38\", \"39\", \"40\", \"41\", \"42\", \"43\", \"44\", \"45\", \"46\", \"47\", \"48\", \"49\", \"50\", \"51\", \"52\", \"53\", \"54\", \"55\", \"56\", \"57\"], \"mode\": \"markers\", \"name\": \"recall_score_weighted\", \"stepped\": false, \"type\": \"scatter\", \"data\": [0.8044692737430168, 0.7932960893854749, 0.770949720670391, 0.776536312849162, 0.8044692737430168, 0.6201117318435754, 0.7988826815642458, 0.7932960893854749, 0.8212290502793296, 0.8100558659217877, 0.3854748603351955, 0.776536312849162, 0.776536312849162, 0.8044692737430168, 0.7877094972067039, 0.8044692737430168, 0.776536312849162, 0.8100558659217877, 0.7206703910614525, 0.7486033519553073, 0.8268156424581006, 0.8156424581005587, 0.8100558659217877, 0.7318435754189944, 0.776536312849162, 0.8044692737430168, 0.776536312849162, 0.7094972067039106, 0.8100558659217877, 0.776536312849162, 0.7932960893854749, 0.7597765363128491, 0.776536312849162, 0.770949720670391, 0.7988826815642458, 0.8044692737430168, 0.776536312849162, 0.7653631284916201]}, {\"categories\": [\"0\", \"5\", \"13\", \"20\", \"23\", \"25\", \"26\", \"27\", \"28\", \"29\", \"30\", \"31\", \"32\", \"33\", \"34\", \"35\", \"36\", \"37\", \"38\", \"39\", \"40\", \"41\", \"42\", \"43\", \"44\", \"45\", \"46\", \"47\", \"48\", \"49\", \"50\", \"51\", \"52\", \"53\", \"54\", \"55\", \"56\", \"57\"], \"mode\": \"lines\", \"name\": \"recall_score_weighted_max\", \"stepped\": true, \"type\": \"scatter\", \"data\": [0.8044692737430168, 0.8044692737430168, 0.8044692737430168, 0.8044692737430168, 0.8044692737430168, 0.8044692737430168, 0.8044692737430168, 0.8044692737430168, 0.8212290502793296, 0.8212290502793296, 0.8212290502793296, 0.8212290502793296, 0.8212290502793296, 0.8212290502793296, 0.8212290502793296, 0.8212290502793296, 0.8212290502793296, 0.8212290502793296, 0.8212290502793296, 0.8212290502793296, 0.8268156424581006, 0.8268156424581006, 0.8268156424581006, 0.8268156424581006, 0.8268156424581006, 0.8268156424581006, 0.8268156424581006, 0.8268156424581006, 0.8268156424581006, 0.8268156424581006, 0.8268156424581006, 0.8268156424581006, 0.8268156424581006, 0.8268156424581006, 0.8268156424581006, 0.8268156424581006, 0.8268156424581006, 0.8268156424581006]}]}, \"metricName\": null, \"primaryMetricName\": \"accuracy\", \"showLegend\": false}, \"run_metrics\": [{\"name\": \"experiment_status\", \"run_id\": \"AutoML_90d85e2e-c635-453e-8fe3-e32ec570cbe5\", \"categories\": [0, 1, 2, 3, 4, 5, 6, 7, 8, 9, 10, 11, 12], \"series\": [{\"data\": [\"DatasetEvaluation\", \"FeaturesGeneration\", \"DatasetFeaturization\", \"DatasetFeaturizationCompleted\", \"ModelSelection\", \"BestRunExplainModel\", \"ModelExplanationDataSetSetup\", \"PickSurrogateModel\", \"EngineeredFeatureExplanations\", \"EngineeredFeatureExplanations\", \"RawFeaturesExplanations\", \"RawFeaturesExplanations\", \"BestRunExplainModel\"]}]}, {\"name\": \"experiment_status_description\", \"run_id\": \"AutoML_90d85e2e-c635-453e-8fe3-e32ec570cbe5\", \"categories\": [0, 1, 2, 3, 4, 5, 6, 7, 8, 9, 10, 11, 12], \"series\": [{\"data\": [\"Gathering dataset statistics.\", \"Generating features for the dataset.\", \"Beginning to fit featurizers and featurize the dataset.\", \"Completed fit featurizers and featurizing the dataset.\", \"Beginning model selection.\", \"Best run model explanations started\", \"Model explanations data setup completed\", \"Choosing LightGBM as the surrogate model for explanations\", \"Computation of engineered features started\", \"Computation of engineered features completed\", \"Computation of raw features started\", \"Computation of raw features completed\", \"Best run model explanations completed\"]}]}, {\"name\": \"AUC_weighted\", \"run_id\": \"AutoML_90d85e2e-c635-453e-8fe3-e32ec570cbe5\", \"categories\": [0], \"series\": [{\"data\": [0.8612648221343872]}]}, {\"name\": \"AUC_macro\", \"run_id\": \"AutoML_90d85e2e-c635-453e-8fe3-e32ec570cbe5\", \"categories\": [0], \"series\": [{\"data\": [0.8612648221343873]}]}, {\"name\": \"matthews_correlation\", \"run_id\": \"AutoML_90d85e2e-c635-453e-8fe3-e32ec570cbe5\", \"categories\": [0], \"series\": [{\"data\": [0.6305763010712991]}]}, {\"name\": \"precision_score_micro\", \"run_id\": \"AutoML_90d85e2e-c635-453e-8fe3-e32ec570cbe5\", \"categories\": [0], \"series\": [{\"data\": [0.8268156424581006]}]}, {\"name\": \"precision_score_macro\", \"run_id\": \"AutoML_90d85e2e-c635-453e-8fe3-e32ec570cbe5\", \"categories\": [0], \"series\": [{\"data\": [0.8201766304347826]}]}, {\"name\": \"norm_macro_recall\", \"run_id\": \"AutoML_90d85e2e-c635-453e-8fe3-e32ec570cbe5\", \"categories\": [0], \"series\": [{\"data\": [0.6209486166007905]}]}, {\"name\": \"balanced_accuracy\", \"run_id\": \"AutoML_90d85e2e-c635-453e-8fe3-e32ec570cbe5\", \"categories\": [0], \"series\": [{\"data\": [0.8104743083003952]}]}, {\"name\": \"log_loss\", \"run_id\": \"AutoML_90d85e2e-c635-453e-8fe3-e32ec570cbe5\", \"categories\": [0], \"series\": [{\"data\": [0.4445480731042515]}]}, {\"name\": \"average_precision_score_macro\", \"run_id\": \"AutoML_90d85e2e-c635-453e-8fe3-e32ec570cbe5\", \"categories\": [0], \"series\": [{\"data\": [0.8479074450665639]}]}, {\"name\": \"f1_score_macro\", \"run_id\": \"AutoML_90d85e2e-c635-453e-8fe3-e32ec570cbe5\", \"categories\": [0], \"series\": [{\"data\": [0.8145697577276525]}]}, {\"name\": \"precision_score_weighted\", \"run_id\": \"AutoML_90d85e2e-c635-453e-8fe3-e32ec570cbe5\", \"categories\": [0], \"series\": [{\"data\": [0.825513875394705]}]}, {\"name\": \"AUC_micro\", \"run_id\": \"AutoML_90d85e2e-c635-453e-8fe3-e32ec570cbe5\", \"categories\": [0], \"series\": [{\"data\": [0.8808713835398397]}]}, {\"name\": \"average_precision_score_micro\", \"run_id\": \"AutoML_90d85e2e-c635-453e-8fe3-e32ec570cbe5\", \"categories\": [0], \"series\": [{\"data\": [0.8603727377286414]}]}, {\"name\": \"average_precision_score_weighted\", \"run_id\": \"AutoML_90d85e2e-c635-453e-8fe3-e32ec570cbe5\", \"categories\": [0], \"series\": [{\"data\": [0.8471674683961532]}]}, {\"name\": \"accuracy\", \"run_id\": \"AutoML_90d85e2e-c635-453e-8fe3-e32ec570cbe5\", \"categories\": [0], \"series\": [{\"data\": [0.8268156424581006]}]}, {\"name\": \"recall_score_weighted\", \"run_id\": \"AutoML_90d85e2e-c635-453e-8fe3-e32ec570cbe5\", \"categories\": [0], \"series\": [{\"data\": [0.8268156424581006]}]}, {\"name\": \"weighted_accuracy\", \"run_id\": \"AutoML_90d85e2e-c635-453e-8fe3-e32ec570cbe5\", \"categories\": [0], \"series\": [{\"data\": [0.8415277860150643]}]}, {\"name\": \"f1_score_micro\", \"run_id\": \"AutoML_90d85e2e-c635-453e-8fe3-e32ec570cbe5\", \"categories\": [0], \"series\": [{\"data\": [0.8268156424581006]}]}, {\"name\": \"recall_score_macro\", \"run_id\": \"AutoML_90d85e2e-c635-453e-8fe3-e32ec570cbe5\", \"categories\": [0], \"series\": [{\"data\": [0.8104743083003952]}]}, {\"name\": \"recall_score_micro\", \"run_id\": \"AutoML_90d85e2e-c635-453e-8fe3-e32ec570cbe5\", \"categories\": [0], \"series\": [{\"data\": [0.8268156424581006]}]}, {\"name\": \"f1_score_weighted\", \"run_id\": \"AutoML_90d85e2e-c635-453e-8fe3-e32ec570cbe5\", \"categories\": [0], \"series\": [{\"data\": [0.8254845680308779]}]}], \"run_logs\": \"\\nRun is completed.\", \"graph\": {}, \"widget_settings\": {\"childWidgetDisplay\": \"popup\", \"send_telemetry\": false, \"log_level\": \"INFO\", \"sdk_version\": \"1.41.0\"}, \"loading\": false}"
     },
     "metadata": {},
     "output_type": "display_data"
    }
   ],
   "source": [
    "from azureml.widgets import RunDetails\n",
    "RunDetails(remote_run).show()"
   ]
  },
  {
   "cell_type": "markdown",
   "metadata": {},
   "source": [
    "## Best Model\n",
    "\n",
    "TODO: In the cell below, get the best model from the automl experiments and display all the properties of the model.\n",
    "\n"
   ]
  },
  {
   "cell_type": "code",
   "execution_count": 34,
   "metadata": {},
   "outputs": [
    {
     "name": "stdout",
     "output_type": "stream",
     "text": [
      "Run(Experiment: Titanic,\n",
      "Id: AutoML_90d85e2e-c635-453e-8fe3-e32ec570cbe5_40,\n",
      "Type: azureml.scriptrun,\n",
      "Status: Completed)\n",
      "Pipeline(steps=[('datatransformer',\n",
      "                 DataTransformer(enable_feature_sweeping=True, working_dir='/mnt/batch/tasks/shared/LS_root/mounts/clusters/notebook197355/code/Users/odl_user_197355')),\n",
      "                ('SparseNormalizer', Normalizer(norm='max')),\n",
      "                ('XGBoostClassifier',\n",
      "                 XGBoostClassifier(booster='gbtree', colsample_bytree=0.9, eta=0.2, gamma=0, max_depth=6, max_leaves=7, n_estimators=50, n_jobs=0, objective='reg:logistic', problem_info=ProblemInfo(gpu_training_param_dict={'processing_unit_type': 'gpu'}), reg_alpha=2.0833333333333335, reg_lambda=0.5208333333333334, subsample=0.6, tree_method='auto'))])\n"
     ]
    }
   ],
   "source": [
    "best_run, best_model = remote_run.get_output()\n",
    "print(best_run)\n",
    "print(best_model)"
   ]
  },
  {
   "cell_type": "markdown",
   "metadata": {
    "gather": {
     "logged": 1598431426111
    },
    "jupyter": {
     "outputs_hidden": false,
     "source_hidden": false
    },
    "nteract": {
     "transient": {
      "deleting": false
     }
    }
   },
   "source": [
    "[Source](https://github.com/Azure/MachineLearningNotebooks/blob/master/how-to-use-azureml/automated-machine-learning/classification-text-dnn/auto-ml-classification-text-dnn.ipynb)"
   ]
  },
  {
   "cell_type": "code",
   "execution_count": 26,
   "metadata": {},
   "outputs": [],
   "source": [
    "model_dir = \"AutoML_model\"  # Local folder where the model will be stored temporarily\n",
    "if not os.path.isdir(model_dir):\n",
    "    os.mkdir(model_dir)\n",
    "\n",
    "best_run.download_file(\"outputs/model.pkl\", model_dir + \"/model.pkl\")"
   ]
  },
  {
   "cell_type": "code",
   "execution_count": 47,
   "metadata": {},
   "outputs": [
    {
     "name": "stdout",
     "output_type": "stream",
     "text": [
      "Registering model Titanic_AutoML_model\n"
     ]
    }
   ],
   "source": [
    "import sklearn\n",
    "from azureml.core.resource_configuration import ResourceConfiguration\n",
    "# Register the model\n",
    "model_name = \"Titanic_AutoML_model\"\n",
    "best_model = Model.register(workspace=ws,\n",
    "                            model_name=model_name,\n",
    "                            model_path=model_dir + \"/model.pkl\",\n",
    "                            model_framework=Model.Framework.SCIKITLEARN,\n",
    "                            model_framework_version=sklearn.__version__,\n",
    "                            sample_input_dataset=dataset_filtered,\n",
    "                            resource_configuration=ResourceConfiguration(cpu=1, memory_in_gb=0.5),\n",
    "                            description=\"AutoML model to predict Titanic survivors.\",\n",
    "                            tags=None\n",
    ")"
   ]
  },
  {
   "cell_type": "code",
   "execution_count": 48,
   "metadata": {},
   "outputs": [
    {
     "name": "stdout",
     "output_type": "stream",
     "text": [
      "Titanic_AutoML_model:2\n"
     ]
    }
   ],
   "source": [
    "print(best_model.id)"
   ]
  },
  {
   "cell_type": "markdown",
   "metadata": {},
   "source": [
    "# Prediction\n",
    "Predict values for `Survived` for the Kaggle competition."
   ]
  },
  {
   "cell_type": "markdown",
   "metadata": {},
   "source": [
    "## Model Deployment\n",
    "\n",
    "Remember you have to deploy only one of the two models you trained but you still need to register both the models. Perform the steps in the rest of this notebook only if you wish to deploy this model.\n",
    "\n",
    "[Source1](https://docs.microsoft.com/de-de/python/api/overview/azure/ml/?view=azure-ml-py)\n",
    "[Source 2](https://github.com/Azure/MachineLearningNotebooks/blob/master/how-to-use-azureml/deployment/deploy-to-cloud/model-register-and-deploy.ipynb)\n",
    "\n",
    "TODO: In the cell below, create an inference config and deploy the model as a web service."
   ]
  },
  {
   "cell_type": "code",
   "execution_count": 42,
   "metadata": {},
   "outputs": [
    {
     "name": "stdout",
     "output_type": "stream",
     "text": [
      "Uploading an estimated of 1 files\n",
      "Uploading ./score.py\n",
      "Uploaded ./score.py, 1 files out of an estimated total of 1\n",
      "Uploaded 1 files\n"
     ]
    },
    {
     "data": {
      "text/plain": [
       "$AZUREML_DATAREFERENCE_workspaceblobstore"
      ]
     },
     "execution_count": 42,
     "metadata": {},
     "output_type": "execute_result"
    }
   ],
   "source": [
    "datastore.upload_files(['./score.py'])"
   ]
  },
  {
   "cell_type": "code",
   "execution_count": null,
   "metadata": {
    "gather": {
     "logged": 1598431435189
    },
    "jupyter": {
     "outputs_hidden": false,
     "source_hidden": false
    },
    "nteract": {
     "transient": {
      "deleting": false
     }
    }
   },
   "outputs": [
    {
     "name": "stdout",
     "output_type": "stream",
     "text": [
      "Environment(Name: AzureML-AutoML,\n",
      "Version: 114)\n",
      "Tips: You can try get_logs(): https://aka.ms/debugimage#dockerlog or local deployment: https://aka.ms/debugimage#debug-locally to debug if deployment takes longer than 10 minutes.\n",
      "Running\n",
      "2022-06-02 14:09:01+00:00 Creating Container Registry if not exists."
     ]
    }
   ],
   "source": [
    "from azureml.core.model import InferenceConfig, Model\n",
    "from azureml.core.webservice import AciWebservice, Webservice\n",
    "from azureml.core.environment import Environment\n",
    "from azureml.core.conda_dependencies import CondaDependencies\n",
    "from azureml.core.webservice import Webservice\n",
    "\n",
    "#environment = Environment(\"Titanic-environment\")\n",
    "env = Environment.get(ws, \"AzureML-AutoML\")\n",
    "print(env)\n",
    "for pip_package in [\"skikit-learn\"]:\n",
    "    env.python.conda_dependencies.add_pip_package(pip_package)\n",
    "\n",
    "# Combine scoring script & environment in Inference configuration\n",
    "inference_config = InferenceConfig(entry_script=\"score.py\",\n",
    "                                   environment=env)\n",
    "\n",
    "# Set deployment configuration\n",
    "deployment_config = AciWebservice.deploy_configuration(cpu_cores = 1,\n",
    "                                                       memory_gb = 1,\n",
    "                                                       enable_app_insights=True,\n",
    "                                                       auth_enabled=False)\n",
    "\n",
    "# Define the model, inference, & deployment configuration and web service name and location to deploy\n",
    "service = Model.deploy(workspace = ws,\n",
    "                       name = \"titanic-webservice\",\n",
    "                       models = [best_model],\n",
    "                       inference_config = inference_config,\n",
    "                       deployment_config = deployment_config,\n",
    "                       overwrite=True)\n",
    "service.wait_for_deployment(show_output=True)\n",
    "print(service.get_logs())"
   ]
  },
  {
   "cell_type": "code",
   "execution_count": null,
   "metadata": {},
   "outputs": [],
   "source": [
    "# Try to load the dataset from the Workspace. Otherwise, create it from the file\n",
    "found = False\n",
    "key = \"Titanic_dataset_test\"\n",
    "\n",
    "if key in ws.datasets.keys(): \n",
    "        found = True\n",
    "        dataset = ws.datasets[key] \n",
    "\n",
    "if not found:\n",
    "        # Create AML Dataset and register it into Workspace\n",
    "        datastore = ws.get_default_datastore()\n",
    "        datastore.upload(src_dir='data', target_path='data')\n",
    "        predict_data = datastore.path('data/test_modified.csv')\n",
    "        \n",
    "        dataset_predict = Dataset.Tabular.from_delimited_files(predict_data, separator=';')        \n",
    "        dataset_predict = dataset_predict.register(workspace=ws,\n",
    "                                   name=key,\n",
    "                                   description=\"This is the test dataset for the capstone project.\")\n",
    "        \n",
    "        dataset_predict_filtered = dataset_predict.keep_columns([\"Pclass\",\"Sex\",\"SibSp\",\"Parch\",\"Fare\",\"Embarked\",\"Age\"])\n",
    "        dataset_predict_filtered = dataset_predict_filtered.register(workspace=ws,\n",
    "                                   name=key+\"_filtered\",\n",
    "                                   description=\"This is the filtered test dataset for the capstone project \" \\\n",
    "                                   \"with only those features relevant for prediction.\")\n",
    "\n",
    "dataframe_predict_filtered = dataset_predict_filtered.to_pandas_dataframe()\n",
    "\n",
    "y_pred = service.predict(dataframe_predict_filtered)\n",
    "\n",
    "dataset_predict_output = dataset_predict.keep_columns([\"PassengerId\"])\n",
    "dataframe_predict_output = dataset_predict_output.to_pandas_dataframe()\n",
    "dataframe_predict_output = pd.concat([dataframe_predict_output, y_pred], axis=1)\n",
    "\n",
    "dataframe_predict_output.to_csv(\"./data/test_predict.csv\")\n",
    "datastore = ws.get_default_datastore()\n",
    "\n",
    "dataset_predict = Dataset.Tabular.register_pandas_dataframe(dataframe_predict_output,\n",
    "                                                            target=datastore,\n",
    "                                                            name=key+\"_filtered\",\n",
    "                                                            description=\"These are the preditions for the test dataset.\"\n",
    "                                                            )"
   ]
  },
  {
   "cell_type": "markdown",
   "metadata": {
    "collapsed": true,
    "gather": {
     "logged": 1598431657736
    },
    "jupyter": {
     "outputs_hidden": false,
     "source_hidden": false
    },
    "nteract": {
     "transient": {
      "deleting": false
     }
    }
   },
   "source": [
    "TODO: In the cell below, send a request to the web service you deployed to test it."
   ]
  },
  {
   "cell_type": "code",
   "execution_count": null,
   "metadata": {
    "gather": {
     "logged": 1598432707604
    },
    "jupyter": {
     "outputs_hidden": false,
     "source_hidden": false
    },
    "nteract": {
     "transient": {
      "deleting": false
     }
    }
   },
   "outputs": [],
   "source": [
    "import json\n",
    "\n",
    "input_payload = json.dumps({\n",
    "    'data': dataset_predict_filtered[0:2].tolist(),\n",
    "    'method': 'predict'\n",
    "})\n",
    "\n",
    "output = service.run(input_payload)\n",
    "\n",
    "print(output)"
   ]
  },
  {
   "cell_type": "markdown",
   "metadata": {
    "collapsed": true,
    "gather": {
     "logged": 1598432765711
    },
    "jupyter": {
     "outputs_hidden": false,
     "source_hidden": false
    },
    "nteract": {
     "transient": {
      "deleting": false
     }
    }
   },
   "source": [
    "TODO: In the cell below, print the logs of the web service and delete the service"
   ]
  },
  {
   "cell_type": "code",
   "execution_count": 4,
   "metadata": {
    "jupyter": {
     "outputs_hidden": false,
     "source_hidden": false
    },
    "nteract": {
     "transient": {
      "deleting": false
     }
    }
   },
   "outputs": [
    {
     "name": "stdout",
     "output_type": "stream",
     "text": [
      "Traceback (most recent call last):\r\n",
      "  File \"logs.py\", line 11, in <module>\r\n",
      "    service = Webservice(name=name, workspace=ws)\r\n",
      "  File \"/anaconda/envs/azureml_py38/lib/python3.8/site-packages/azureml/core/webservice/webservice.py\", line 215, in __new__\r\n",
      "    raise WebserviceException('WebserviceNotFound: Webservice with name {} not found in provided '\r\n",
      "azureml.exceptions._azureml_exception.WebserviceException: WebserviceException:\r\n",
      "\tMessage: WebserviceNotFound: Webservice with name Titanic-webservice not found in provided workspace\r\n",
      "\tInnerException None\r\n",
      "\tErrorResponse \r\n",
      "{\r\n",
      "    \"error\": {\r\n",
      "        \"message\": \"WebserviceNotFound: Webservice with name Titanic-webservice not found in provided workspace\"\r\n",
      "    }\r\n",
      "}\r\n"
     ]
    }
   ],
   "source": [
    "!python logs.py"
   ]
  },
  {
   "cell_type": "code",
   "execution_count": null,
   "metadata": {},
   "outputs": [],
   "source": [
    "# Delete the webservice\n",
    "service.delete()"
   ]
  },
  {
   "cell_type": "markdown",
   "metadata": {},
   "source": [
    "**Submission Checklist**\n",
    "- I have registered the model.\n",
    "- I have deployed the model with the best accuracy as a webservice.\n",
    "- I have tested the webservice by sending a request to the model endpoint.\n",
    "- I have deleted the webservice and shutdown all the computes that I have used.\n",
    "- I have taken a screenshot showing the model endpoint as active.\n",
    "- The project includes a file containing the environment details.\n"
   ]
  },
  {
   "cell_type": "markdown",
   "metadata": {},
   "source": []
  }
 ],
 "metadata": {
  "kernel_info": {
   "name": "python3"
  },
  "kernelspec": {
   "display_name": "Python 3",
   "language": "python",
   "name": "python3"
  },
  "language_info": {
   "codemirror_mode": {
    "name": "ipython",
    "version": 3
   },
   "file_extension": ".py",
   "mimetype": "text/x-python",
   "name": "python",
   "nbconvert_exporter": "python",
   "pygments_lexer": "ipython3",
   "version": "3.8.5"
  },
  "nteract": {
   "version": "nteract-front-end@1.0.0"
  }
 },
 "nbformat": 4,
 "nbformat_minor": 2
}
